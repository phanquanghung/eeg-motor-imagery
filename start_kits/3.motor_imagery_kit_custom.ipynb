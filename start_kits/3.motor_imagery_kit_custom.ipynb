{
 "cells": [
  {
   "cell_type": "markdown",
   "metadata": {},
   "source": [
    "# Start kit for Task 2 - Motor imagery decoding transfer learning challenge\n",
    "\n",
    "\n",
    "We recommand you to read the 'LeaderboardDataGuide' and visit the https://beetl.ai to get familar with data and tasks before you read this start kit.\n",
    "\n",
    "<p> &#10071; <b>Important</b> &#10071; </p>\n",
    "For the competition, please MAKE SURE that your model and uploaded labels are reproducible. We will run winner's code and generate the label to compare with the uploaded labels.\n",
    "\n",
    "\n",
    "## Objective of the tutorial\n",
    "\n",
    "In this start kit, we will show how to use [MOABB](http://moabb.neurotechx.com/docs/index.html) to load `BNCI2014001`, `Cho2017` and `PhysionetMI` motor imagery datasets for the cross-dataset and cross-subject challenge. We also show an example pipeline of the challenge including:\n",
    "\n",
    "- Environment setup\n",
    "- Source motor imagery datasets loading\n",
    "- Source and target domain data organisation\n",
    "- Training and evaluation procedure using an example shallow CNN, using [BrainDecode](https://braindecode.org)\n",
    "\n",
    "References:\n",
    "\n",
    "> <p>&#128218;  Schirrmeister, Robin Tibor, et al. \"Deep learning with convolutional neural networks for EEG decoding and visualization.\" Human brain mapping 38.11 (2017): 5391-5420. </p>"
   ]
  },
  {
   "cell_type": "markdown",
   "metadata": {},
   "source": [
    "## Environment Setup"
   ]
  },
  {
   "cell_type": "markdown",
   "metadata": {},
   "source": [
    "1. Install pytorch from http://pytorch.org/ (you don't need to install torchvision).\n",
    "1. Install MOABB with pip: `pip install moabb`\n",
    "1. Install latest release of braindecode via pip: `pip install braindecode`\n",
    "1. You will also need mne, matplotlib, scikit-learn and pandas\n",
    "1. If you want to automatically download the data, you could install the helper code with `pip install git+https://github.com/sylvchev/beetl-competition`\n",
    "\n",
    "Let's import packages and set random seed. "
   ]
  },
  {
   "cell_type": "code",
   "execution_count": 12,
   "metadata": {},
   "outputs": [],
   "source": [
    "%matplotlib inline"
   ]
  },
  {
   "cell_type": "code",
   "execution_count": 13,
   "metadata": {},
   "outputs": [
    {
     "name": "stdout",
     "output_type": "stream",
     "text": [
      "gpu:  True\n"
     ]
    }
   ],
   "source": [
    "from braindecode.util import set_random_seeds, np_to_var, var_to_np\n",
    "import matplotlib.pyplot as plt\n",
    "from moabb.datasets import BNCI2014001, Cho2017, PhysionetMI\n",
    "from moabb.paradigms import MotorImagery\n",
    "import numpy as np\n",
    "from numpy.random import RandomState\n",
    "import pickle\n",
    "import time\n",
    "import torch\n",
    "from torch import nn\n",
    "from torch import optim\n",
    "import torch.nn.functional as F\n",
    "\n",
    "import mne\n",
    "\n",
    "import util.shallow_net\n",
    "from util.utilfunc import get_balanced_batches\n",
    "from util.preproc import plot_confusion_matrix\n",
    "\n",
    "cuda = torch.cuda.is_available()\n",
    "print('gpu: ', cuda)\n",
    "device = 'cuda' if cuda else 'cpu'\n",
    "\n",
    "seed = 42\n",
    "torch.manual_seed(seed)\n",
    "torch.cuda.manual_seed(seed)\n",
    "np.random.seed(seed)\n",
    "torch.backends.cudnn.deterministic = True\n",
    "rng = RandomState(seed)"
   ]
  },
  {
   "cell_type": "markdown",
   "metadata": {},
   "source": [
    "To download source MI datasets, we will use MOABB. By default, the datasets are downloaded in a `mne_data` folder in your home directory. To change this default repository, uncomment the next lines of codes and indicate the chosen path."
   ]
  },
  {
   "cell_type": "code",
   "execution_count": 14,
   "metadata": {},
   "outputs": [],
   "source": [
    "# from moabb.utils import set_download_dir\n",
    "# set_download_dir(\"/path/to/my/datasets\")"
   ]
  },
  {
   "cell_type": "markdown",
   "metadata": {},
   "source": [
    "The next blocks download the data from the first subject of `BNCI2014001`, `Cho2017`, `PhysionetMI` and print information regarding the data."
   ]
  },
  {
   "cell_type": "code",
   "execution_count": 15,
   "metadata": {},
   "outputs": [
    {
     "name": "stdout",
     "output_type": "stream",
     "text": [
      "001-2014 is an imagery dataset, acquired at 250.0 Hz, with 26 electrodes\n",
      "Electrodes names: \n",
      "['Fz', 'FC3', 'FC1', 'FCz', 'FC2', 'FC4', 'C5', 'C3', 'C1', 'Cz', 'C2', 'C4', 'C6', 'CP3', 'CP1', 'CPz', 'CP2', 'CP4', 'P1', 'Pz', 'P2', 'POz', 'EOG1', 'EOG2', 'EOG3', 'stim']\n",
      "\n",
      "Physionet Motor Imagery is an imagery dataset, acquired at 160.0 Hz, with 64 electrodes\n",
      "Electrodes names: \n",
      "['FC5', 'FC3', 'FC1', 'FCz', 'FC2', 'FC4', 'FC6', 'C5', 'C3', 'C1', 'Cz', 'C2', 'C4', 'C6', 'CP5', 'CP3', 'CP1', 'CPz', 'CP2', 'CP4', 'CP6', 'Fp1', 'Fpz', 'Fp2', 'AF7', 'AF3', 'AFz', 'AF4', 'AF8', 'F7', 'F5', 'F3', 'F1', 'Fz', 'F2', 'F4', 'F6', 'F8', 'FT7', 'FT8', 'T7', 'T8', 'T9', 'T10', 'TP7', 'TP8', 'P7', 'P5', 'P3', 'P1', 'Pz', 'P2', 'P4', 'P6', 'P8', 'PO7', 'PO3', 'POz', 'PO4', 'PO8', 'O1', 'Oz', 'O2', 'Iz']\n",
      "\n"
     ]
    },
    {
     "name": "stderr",
     "output_type": "stream",
     "text": [
      "Trials demeaned and stacked with zero buffer to create continuous data -- edge effects present\n"
     ]
    },
    {
     "name": "stdout",
     "output_type": "stream",
     "text": [
      "Cho2017 is an imagery dataset, acquired at 512.0 Hz, with 69 electrodes\n",
      "Electrodes names: \n",
      "['Fp1', 'AF7', 'AF3', 'F1', 'F3', 'F5', 'F7', 'FT7', 'FC5', 'FC3', 'FC1', 'C1', 'C3', 'C5', 'T7', 'TP7', 'CP5', 'CP3', 'CP1', 'P1', 'P3', 'P5', 'P7', 'P9', 'PO7', 'PO3', 'O1', 'Iz', 'Oz', 'POz', 'Pz', 'CPz', 'Fpz', 'Fp2', 'AF8', 'AF4', 'AFz', 'Fz', 'F2', 'F4', 'F6', 'F8', 'FT8', 'FC6', 'FC4', 'FC2', 'FCz', 'Cz', 'C2', 'C4', 'C6', 'T8', 'TP8', 'CP6', 'CP4', 'CP2', 'P2', 'P4', 'P6', 'P8', 'P10', 'PO8', 'PO4', 'O2', 'EMG1', 'EMG2', 'EMG3', 'EMG4', 'Stim']\n",
      "\n"
     ]
    }
   ],
   "source": [
    "subj = 1\n",
    "for dataset in [BNCI2014001(), PhysionetMI(), Cho2017()]:\n",
    "    data = dataset.get_data(subjects=[subj])\n",
    "    ds_name = dataset.code\n",
    "    ds_type = dataset.paradigm\n",
    "    sess = 'session_T' if ds_name == \"001-2014\" else 'session_0'\n",
    "    run = sorted(data[subj][sess])[0]\n",
    "    ds_ch_names = data[subj][sess][run].info['ch_names']  # [0:22]\n",
    "    ds_sfreq = data[subj][sess][run].info['sfreq']\n",
    "    print(\"{} is an {} dataset, acquired at {} Hz, with {} electrodes\\nElectrodes names: \".format(ds_name, ds_type, ds_sfreq, len(ds_ch_names)))\n",
    "    print(ds_ch_names)\n",
    "    print()"
   ]
  },
  {
   "cell_type": "markdown",
   "metadata": {},
   "source": [
    "# Loading MI Data\n",
    "\n",
    "We will use the first 3 subjects of `Cho2017` and first 5 subjects of `PhysionetMI` as the source data and we will use the first subject from `BNCI2014001` as the target subject we would like to transfer to. We directly regard trials other than left/right hand MI as 'other' and train them together, you could come up with your own strategy for this transfering like from rest to tongue or so.\n",
    "\n",
    "Note here that the data labels are not balanced, and cross dataset transfer learning is still a challenge in the literature (with different channel sizes, sampling rate, window length even hardware for data collection sometimes). Here is just an example adding the calibration target samples into the training pool, which is just an example yet not a 'solution'. Please come up with your own strategies.\n",
    "\n",
    "To summarize, we will split the data as such:\n",
    "\n",
    "- training: source data from subjects 1, 2, 3 of `Cho2017` (only left- and right-hand) and subjects 1, 2, 3, 4, 5 from `PhysionetMI` (left-hand, right-hand and 'other'), and the first 100 trials from subject 1 of target dataset `BNCI2014001` (left-hand, right-hand and 'other')\n",
    "- validation: 50 trials from subject 1 of `BNCI2014001` with left-hand, right-hand and 'other'.\n",
    "- test: the rest of the trials from subject 1 of `BNCI2014001`, as target data, with left-hand, right-hand and 'other'.\n",
    "\n",
    "First, lets get the data using correct bandpass filter, resampling and electrode selection to match target domain. Here we simply selected the common electrodes as an example, you could come up with your own channel transfer strategies."
   ]
  },
  {
   "cell_type": "code",
   "execution_count": 23,
   "metadata": {},
   "outputs": [
    {
     "name": "stderr",
     "output_type": "stream",
     "text": [
      "Choosing from all possible events\n",
      "Choosing from all possible events\n",
      "Trials demeaned and stacked with zero buffer to create continuous data -- edge effects present\n",
      "Trials demeaned and stacked with zero buffer to create continuous data -- edge effects present\n",
      "Trials demeaned and stacked with zero buffer to create continuous data -- edge effects present\n"
     ]
    },
    {
     "name": "stdout",
     "output_type": "stream",
     "text": [
      "First source dataset has 600 trials with 22 electrodes and 750 time samples\n",
      "Second source dataset has 450 trials with 22 electrodes and 752 time samples\n",
      "Target dataset has 576 trials with 22 electrodes and 1001 time samples\n",
      "\n",
      "Source dataset 1 include labels: ['left_hand' 'right_hand']\n",
      "Source dataset 2 include labels: ['feet' 'hands' 'left_hand' 'right_hand']\n",
      "Target dataset 1 include labels: ['feet' 'left_hand' 'right_hand' 'tongue']\n"
     ]
    }
   ],
   "source": [
    "ds_src1 = Cho2017()\n",
    "ds_src2 = PhysionetMI()\n",
    "ds_tgt = BNCI2014001()\n",
    "\n",
    "fmin, fmax = 4, 38\n",
    "raw = ds_tgt.get_data(subjects=[1])[1]['session_T']['run_1']\n",
    "\n",
    "tgt_channels = raw.pick_types(eeg=True).ch_names\n",
    "# tgt_channels = ['Cz', 'CP1', 'CP2', 'Fz', 'FC1', 'FC2', 'Pz', 'C3', 'C4']\n",
    "\n",
    "sfreq = 256.\n",
    "prgm_2classes = MotorImagery(n_classes=2, channels=tgt_channels, resample=sfreq, fmin=fmin, fmax=fmax)\n",
    "prgm_4classes = MotorImagery(n_classes=4, channels=tgt_channels, resample=sfreq, fmin=fmin, fmax=fmax)\n",
    "\n",
    "X_src1, label_src1, m_src1 = prgm_2classes.get_data(dataset=ds_src1, subjects=[1, 2, 3])\n",
    "X_src2, label_src2, m_src2 = prgm_4classes.get_data(dataset=ds_src2, subjects=[1, 2, 3, 4, 5])\n",
    "X_tgt, label_tgt, m_tgt = prgm_4classes.get_data(dataset=ds_tgt, subjects=[1])\n",
    "\n",
    "print(\"First source dataset has {} trials with {} electrodes and {} time samples\".format(*X_src1.shape))\n",
    "print(\"Second source dataset has {} trials with {} electrodes and {} time samples\".format(*X_src2.shape))\n",
    "print(\"Target dataset has {} trials with {} electrodes and {} time samples\".format(*X_tgt.shape))\n",
    "\n",
    "print (\"\\nSource dataset 1 include labels: {}\".format(np.unique(label_src1)))\n",
    "print (\"Source dataset 2 include labels: {}\".format(np.unique(label_src2)))\n",
    "print (\"Target dataset 1 include labels: {}\".format(np.unique(label_tgt)))\n"
   ]
  },
  {
   "cell_type": "markdown",
   "metadata": {},
   "source": [
    "As explained above, we will use only left- and right-hand labels, the other labels will be listed as other."
   ]
  },
  {
   "cell_type": "code",
   "execution_count": 24,
   "metadata": {},
   "outputs": [
    {
     "name": "stdout",
     "output_type": "stream",
     "text": [
      "Only right-/left-hand labels are used and first source dataset does not have other labels:\n",
      "[0 1] [0 1 2] [0 1 2]\n"
     ]
    }
   ],
   "source": [
    "def relabel(l):\n",
    "    if l == 'left_hand': return 0\n",
    "    elif l == 'right_hand': return 1\n",
    "    else: return 2\n",
    "\n",
    "\n",
    "y_src1 = np.array([relabel(l) for l in label_src1])\n",
    "y_src2 = np.array([relabel(l) for l in label_src2])\n",
    "y_tgt = np.array([relabel(l) for l in label_tgt])\n",
    "\n",
    "print(\"Only right-/left-hand labels are used and first source dataset does not have other labels:\")\n",
    "print(np.unique(y_src1), np.unique(y_src2), np.unique(y_tgt))"
   ]
  },
  {
   "cell_type": "code",
   "execution_count": 25,
   "metadata": {},
   "outputs": [
    {
     "name": "stdout",
     "output_type": "stream",
     "text": [
      "Train:  there are 1150 trials with 22 electrodes and 750 time samples\n",
      "\n",
      "Validation: there are 50 trials with 22 electrodes and 750 time samples\n",
      "\n",
      "Test: there are 426 trials with 22 electrodes and 750 time samples\n"
     ]
    }
   ],
   "source": [
    "window_size = min(X_src1.shape[2], X_src2.shape[2], X_tgt.shape[2])\n",
    "\n",
    "X_train = np.concatenate((X_src1[:, :, :window_size], X_src2[:, :, :window_size], X_tgt[:100, :, :window_size]))\n",
    "y_train = np.concatenate((y_src1, y_src2, y_tgt[:100]))\n",
    "\n",
    "X_val = X_tgt[100:150, :, :window_size]\n",
    "y_val = y_tgt[100:150]\n",
    "\n",
    "X_test = X_tgt[150:, :, :window_size]\n",
    "y_test = y_tgt[150:]\n",
    "\n",
    "# np_root = '/home/hainguyen/Documents/Deep_Learning_Projects/code/NeurIPS_BEETL/numpy_data_binary'\n",
    "\n",
    "# X_train = np.load(f'{np_root}/X_train.npy')\n",
    "# y_train = np.load(f'{np_root}/y_train.npy')\n",
    "\n",
    "# X_val = np.load(f'{np_root}/X_val.npy')\n",
    "# y_val = np.load(f'{np_root}/y_val.npy')\n",
    "\n",
    "# X_test = np.load(f'{np_root}/X_test.npy')\n",
    "# y_test = np.load(f'{np_root}/y_test.npy')\n",
    "\n",
    "# window_size = 250\n",
    "\n",
    "print(\"Train:  there are {} trials with {} electrodes and {} time samples\".format(*X_train.shape))\n",
    "print(\"\\nValidation: there are {} trials with {} electrodes and {} time samples\".format(*X_val.shape))\n",
    "print(\"\\nTest: there are {} trials with {} electrodes and {} time samples\".format(*X_test.shape))"
   ]
  },
  {
   "cell_type": "markdown",
   "metadata": {},
   "source": [
    "**Warning** \n",
    "Data are not normalized and labels are not balanced. Please come up with your strategy.\n",
    "\n",
    "## Training a CNN\n",
    "\n",
    "Here, we use a shallow CNN structure as an example, you should replace it with your own algorithm here."
   ]
  },
  {
   "cell_type": "code",
   "execution_count": 26,
   "metadata": {},
   "outputs": [],
   "source": [
    "class TrainObject(object):\n",
    "    def __init__(self, X, y):\n",
    "        assert len(X) == len(y)\n",
    "        # Normalised, you could choose other normalisation strategy\n",
    "        mean = np.mean(X,axis=1,keepdims=True)\n",
    "        # here normalise across channels as an example, unlike the in the sleep kit\n",
    "        std = np.std(X, axis=1, keepdims=True)\n",
    "        X = (X - mean) / std\n",
    "        # we scale it to 1000 as a better training scale of the shallow CNN\n",
    "        # according to the orignal work of the paper referenced above\n",
    "        self.X = X.astype(np.float32) * 1e3\n",
    "        self.y = y.astype(np.int64)\n",
    "\n",
    "train_set = TrainObject(X_train, y=y_train)\n",
    "valid_set = TrainObject(X_val, y=y_val)\n",
    "test_set = TrainObject(X_test, y=y_test)"
   ]
  },
  {
   "cell_type": "code",
   "execution_count": 27,
   "metadata": {},
   "outputs": [],
   "source": [
    "in_chans = X_train.shape[1]\n",
    "labelsize = len(np.unique(y_train))\n",
    "from braindecode.models import ShallowFBCSPNet, EEGNetv1, EEGNetv4\n",
    "# model = ShallowFBCSPNet(\n",
    "#     in_chans = 32,\n",
    "#     n_classes = 2,\n",
    "#     input_window_samples=256,\n",
    "#     final_conv_length='auto',\n",
    "# )\n",
    "\n",
    "model = EEGNetv4(\n",
    "    in_chans = in_chans,\n",
    "    n_classes = 3,\n",
    "    input_window_samples=256,\n",
    ")\n",
    "\n",
    "# model = util.shallow_net.EEGShallowClassifier(in_chans, labelsize, window_size, return_feature=False)\n",
    "if cuda:\n",
    "    model.cuda()"
   ]
  },
  {
   "cell_type": "code",
   "execution_count": 28,
   "metadata": {},
   "outputs": [
    {
     "data": {
      "text/plain": [
       "3"
      ]
     },
     "execution_count": 28,
     "metadata": {},
     "output_type": "execute_result"
    }
   ],
   "source": [
    "labelsize"
   ]
  },
  {
   "cell_type": "code",
   "execution_count": 29,
   "metadata": {},
   "outputs": [
    {
     "name": "stderr",
     "output_type": "stream",
     "text": [
      "/home/ducanh/anaconda3/envs/yolov4/lib/python3.8/site-packages/braindecode/util.py:66: UserWarning: np_to_var has been renamed np_to_th, please use np_to_th instead\n",
      "  warn(\"np_to_var has been renamed np_to_th, please use np_to_th instead\")\n"
     ]
    },
    {
     "ename": "RuntimeError",
     "evalue": "Expected target size [128, 17], got [128]",
     "output_type": "error",
     "traceback": [
      "\u001b[0;31m---------------------------------------------------------------------------\u001b[0m",
      "\u001b[0;31mRuntimeError\u001b[0m                              Traceback (most recent call last)",
      "\u001b[1;32m/home/ducanh/hain/hungp/NeurIPS_BEETL/start_kits/3.motor_imagery_kit_custom.ipynb Cell 19\u001b[0m in \u001b[0;36m<cell line: 13>\u001b[0;34m()\u001b[0m\n\u001b[1;32m     <a href='vscode-notebook-cell://ssh-remote%2Bsiliconcube.asuscomm.com/home/ducanh/hain/hungp/NeurIPS_BEETL/start_kits/3.motor_imagery_kit_custom.ipynb#ch0000018vscode-remote?line=34'>35</a>\u001b[0m outputs \u001b[39m=\u001b[39m model(net_in)\n\u001b[1;32m     <a href='vscode-notebook-cell://ssh-remote%2Bsiliconcube.asuscomm.com/home/ducanh/hain/hungp/NeurIPS_BEETL/start_kits/3.motor_imagery_kit_custom.ipynb#ch0000018vscode-remote?line=35'>36</a>\u001b[0m \u001b[39m# Compute the loss\u001b[39;00m\n\u001b[0;32m---> <a href='vscode-notebook-cell://ssh-remote%2Bsiliconcube.asuscomm.com/home/ducanh/hain/hungp/NeurIPS_BEETL/start_kits/3.motor_imagery_kit_custom.ipynb#ch0000018vscode-remote?line=36'>37</a>\u001b[0m loss \u001b[39m=\u001b[39m F\u001b[39m.\u001b[39;49mnll_loss(outputs, net_target)\n\u001b[1;32m     <a href='vscode-notebook-cell://ssh-remote%2Bsiliconcube.asuscomm.com/home/ducanh/hain/hungp/NeurIPS_BEETL/start_kits/3.motor_imagery_kit_custom.ipynb#ch0000018vscode-remote?line=37'>38</a>\u001b[0m \u001b[39m# Do the backpropagation\u001b[39;00m\n\u001b[1;32m     <a href='vscode-notebook-cell://ssh-remote%2Bsiliconcube.asuscomm.com/home/ducanh/hain/hungp/NeurIPS_BEETL/start_kits/3.motor_imagery_kit_custom.ipynb#ch0000018vscode-remote?line=38'>39</a>\u001b[0m loss\u001b[39m.\u001b[39mbackward()\n",
      "File \u001b[0;32m~/anaconda3/envs/yolov4/lib/python3.8/site-packages/torch/nn/functional.py:2689\u001b[0m, in \u001b[0;36mnll_loss\u001b[0;34m(input, target, weight, size_average, ignore_index, reduce, reduction)\u001b[0m\n\u001b[1;32m   2687\u001b[0m \u001b[39mif\u001b[39;00m size_average \u001b[39mis\u001b[39;00m \u001b[39mnot\u001b[39;00m \u001b[39mNone\u001b[39;00m \u001b[39mor\u001b[39;00m reduce \u001b[39mis\u001b[39;00m \u001b[39mnot\u001b[39;00m \u001b[39mNone\u001b[39;00m:\n\u001b[1;32m   2688\u001b[0m     reduction \u001b[39m=\u001b[39m _Reduction\u001b[39m.\u001b[39mlegacy_get_string(size_average, reduce)\n\u001b[0;32m-> 2689\u001b[0m \u001b[39mreturn\u001b[39;00m torch\u001b[39m.\u001b[39;49m_C\u001b[39m.\u001b[39;49m_nn\u001b[39m.\u001b[39;49mnll_loss_nd(\u001b[39minput\u001b[39;49m, target, weight, _Reduction\u001b[39m.\u001b[39;49mget_enum(reduction), ignore_index)\n",
      "\u001b[0;31mRuntimeError\u001b[0m: Expected target size [128, 17], got [128]"
     ]
    }
   ],
   "source": [
    "batch_size = 128\n",
    "optimizer = optim.AdamW(model.parameters(), lr=0.0001, weight_decay=0.5*0.001)\n",
    "\n",
    "total_epoch = -1\n",
    "Tlosses, Taccuracies = [], []\n",
    "Vlosses, Vaccuracies = [], []\n",
    "highest_acc = 0\n",
    "\n",
    "savename = \"eegnet_datakit.pth\"\n",
    "\n",
    "start=time.time()\n",
    "\n",
    "for i_epoch in range(50):\n",
    "    total_epoch += 1\n",
    "    # Randomize batches ids and get iterater 'i_trials_in_batch'\n",
    "    i_trials_in_batch = get_balanced_batches(len(train_set.X), rng, shuffle=True,\n",
    "                                             batch_size=batch_size)\n",
    "    # Set model to training mode\n",
    "    model.train()\n",
    "    for i_trials in i_trials_in_batch:\n",
    "        # Have to add empty fourth dimension to X for training\n",
    "        batch_X = train_set.X[i_trials][:, :, :, None]\n",
    "        batch_y = train_set.y[i_trials]\n",
    "        # convert from nparray to torch tensor\n",
    "        net_in = np_to_var(batch_X)\n",
    "    \n",
    "        if cuda:\n",
    "            net_in = net_in.cuda()\n",
    "        net_target = np_to_var(batch_y)\n",
    "        if cuda:\n",
    "            net_target = net_target.cuda()\n",
    "        # Remove gradients of last backward pass from all parameters\n",
    "        optimizer.zero_grad()\n",
    "        # Compute outputs of the network\n",
    "        outputs = model(net_in)\n",
    "        # Compute the loss\n",
    "        loss = F.nll_loss(outputs, net_target)\n",
    "        # Do the backpropagation\n",
    "        loss.backward()\n",
    "        # Update parameters with the optimizer\n",
    "        optimizer.step()\n",
    "    \n",
    "    # Set model to evaluation mode\n",
    "    model.eval()\n",
    "    print(\"Epoch {:d}\".format(total_epoch))\n",
    "    average_acc = []\n",
    "    average_loss = []\n",
    "    \n",
    "    # Here we compute training accuracy and validation accuracy of current model\n",
    "    for setname, dataset in (('Train', train_set), ('Valid', valid_set)):\n",
    "        i_trials_in_batch = get_balanced_batches(len(dataset.X), rng, shuffle=False,\n",
    "                                                 batch_size=batch_size)\n",
    "        outputs=None\n",
    "        for i_trials in i_trials_in_batch:\n",
    "            batch_X = dataset.X[i_trials][:, :, :, None]\n",
    "            batch_y = dataset.y[i_trials]\n",
    "            net_in = np_to_var(batch_X)\n",
    "            if cuda:\n",
    "                net_in = net_in.cuda()\n",
    "            toutputs = model(net_in)\n",
    "            if outputs is None:\n",
    "                temp = toutputs.cpu()\n",
    "                outputs = temp.detach().numpy()\n",
    "            else:\n",
    "                temp = toutputs.cpu()\n",
    "                outputs = np.concatenate((outputs,temp.detach().numpy()))\n",
    "        net_target = np_to_var(dataset.y)\n",
    "        loss = F.nll_loss(torch.from_numpy(outputs), net_target)\n",
    "        print(\"{:6s} Loss: {:.5f}\".format(\n",
    "            setname, float(var_to_np(loss))))\n",
    "        predicted_labels = np.argmax((outputs), axis=1)\n",
    "        accuracy = np.mean(dataset.y  == predicted_labels)\n",
    "        \n",
    "        print(\"{:6s} Accuracy: {:.1f}%\".format(setname, accuracy * 100))\n",
    "        if setname == 'Train':\n",
    "            Tlosses.append(loss)\n",
    "            Taccuracies.append(accuracy)\n",
    "            current_Tacc=accuracy\n",
    "        elif setname == 'Valid':\n",
    "            Vlosses.append(loss)\n",
    "            Vaccuracies.append(accuracy)\n",
    "            if accuracy>=highest_acc:\n",
    "                torch.save({\n",
    "                    'in_chans': in_chans,\n",
    "                    'model_state_dict': model.state_dict(),\n",
    "                    'optimizer_state_dict': optimizer.state_dict(),\n",
    "                    'n_classes': labelsize,\n",
    "                    'input_time_length': window_size\n",
    "                }, savename)\n",
    "\n",
    "                highest_acc=accuracy\n",
    "                print('model saved')\n",
    "                plot_confusion_matrix(dataset.y, predicted_labels, \n",
    "                                      classes=['LH', 'RH', 'Other'], normalize=True,\n",
    "                                      title='Validation confusion matrix')\n",
    "                plt.show()\n",
    "                # plot_confusion_matrix(dataset.y, predicted_labels, \n",
    "                #                       classes=['RH', 'Other'], normalize=True,\n",
    "                #                       title='Validation confusion matrix')\n",
    "                # plt.show()\n",
    "        else:\n",
    "            average_acc.append(accuracy)\n",
    "            average_loss.append(accuracy)\n",
    "end = time.time()\n",
    "\n",
    "print('time is {}'.format(end-start))"
   ]
  },
  {
   "cell_type": "markdown",
   "metadata": {},
   "source": [
    "Here we can observe that on training set, the classification accuracy is fairly high, while it is usually not able to generalised well to the new subject directly with this simple strategy, this subject is just a well-performed case for tutorial purpose. Usually validation and test accuracy of a new subject decrease a lot (sometimes 30% or even more). Transfer learning strategies should be used to solve this problem."
   ]
  },
  {
   "cell_type": "code",
   "execution_count": null,
   "metadata": {},
   "outputs": [
    {
     "data": {
      "image/png": "[encoded data removed]",
      "text/plain": [
       "<Figure size 432x288 with 1 Axes>"
      ]
     },
     "metadata": {
      "needs_background": "light"
     },
     "output_type": "display_data"
    },
    {
     "data": {
      "image/png": "[encoded data removed]",
      "text/plain": [
       "<Figure size 432x288 with 1 Axes>"
      ]
     },
     "metadata": {
      "needs_background": "light"
     },
     "output_type": "display_data"
    }
   ],
   "source": [
    "t = np.arange(0.0, len(Tlosses), 1)+1\n",
    "plt.plot(t, Tlosses, 'r', t, Vlosses, 'y')\n",
    "plt.legend(('Training loss', 'validation loss'))\n",
    "plt.show()\n",
    "\n",
    "plt.plot(t, Taccuracies, 'r', t, Vaccuracies, 'y')\n",
    "plt.legend(('Training accuracy', 'Validation accuracy'))\n",
    "plt.show()"
   ]
  },
  {
   "cell_type": "code",
   "execution_count": null,
   "metadata": {},
   "outputs": [
    {
     "name": "stdout",
     "output_type": "stream",
     "text": [
      "testset Loss: 0.63831\n",
      "testset Accuracy: 73.2%\n",
      "[[ 79  12  15]\n",
      " [ 25  79   2]\n",
      " [ 30  30 154]]\n",
      "Normalized confusion matrix\n"
     ]
    },
    {
     "name": "stderr",
     "output_type": "stream",
     "text": [
      "/home/ducanh/anaconda3/envs/yolov4/lib/python3.8/site-packages/braindecode/util.py:66: UserWarning: np_to_var has been renamed np_to_th, please use np_to_th instead\n",
      "  warn(\"np_to_var has been renamed np_to_th, please use np_to_th instead\")\n",
      "/home/ducanh/anaconda3/envs/yolov4/lib/python3.8/site-packages/braindecode/util.py:107: UserWarning: var_to_np has been renamed th_to_np, please use th_to_np instead\n",
      "  warn(\"var_to_np has been renamed th_to_np, please use th_to_np instead\")\n"
     ]
    },
    {
     "data": {
      "image/png": "[encoded data removed]",
      "text/plain": [
       "<Figure size 432x288 with 2 Axes>"
      ]
     },
     "metadata": {
      "needs_background": "light"
     },
     "output_type": "display_data"
    }
   ],
   "source": [
    "# model = util.shallow_net.EEGShallowClassifier(in_chans, labelsize, window_size, return_feature=False)\n",
    "if cuda:\n",
    "    model.cuda()\n",
    "checkpoint = torch.load(savename)\n",
    "model.load_state_dict(checkpoint['model_state_dict'])\n",
    "model.eval()\n",
    "\n",
    "average_acc, average_loss = [], []\n",
    "setname = 'testset'\n",
    "dataset = test_set\n",
    "\n",
    "i_trials_in_batch = get_balanced_batches(len(dataset.X), rng, shuffle=False,\n",
    "                                         batch_size=batch_size)\n",
    "outputs=None\n",
    "for i_trials in i_trials_in_batch:\n",
    "    # Have to add empty fourth dimension to X\n",
    "    batch_X = dataset.X[i_trials][:, :, :, None]\n",
    "    batch_y = dataset.y[i_trials]\n",
    "    net_in = np_to_var(batch_X)\n",
    "    if cuda:\n",
    "        net_in = net_in.cuda()\n",
    "    toutputs = model(net_in)\n",
    "    if outputs is None:\n",
    "        temp = toutputs.cpu()\n",
    "        outputs = temp.detach().numpy()\n",
    "    else:\n",
    "        temp = toutputs.cpu()\n",
    "        outputs = np.concatenate((outputs,temp.detach().numpy()))\n",
    "\n",
    "net_target = np_to_var(dataset.y)\n",
    "loss = F.nll_loss(torch.from_numpy(outputs), net_target)\n",
    "print(\"{:6s} Loss: {:.5f}\".format(setname, float(var_to_np(loss))))\n",
    "predicted_labels = np.argmax((outputs), axis=1)\n",
    "accuracy = np.mean(dataset.y  == predicted_labels)\n",
    "\n",
    "print(\"{:6s} Accuracy: {:.1f}%\".format(setname, accuracy * 100))\n",
    "plot_confusion_matrix(dataset.y, predicted_labels, \n",
    "                      classes=['LH', 'RH','Other'], normalize=True,\n",
    "                      title='Validation confusion matrix')\n",
    "plt.show()"
   ]
  },
  {
   "cell_type": "code",
   "execution_count": 6,
   "metadata": {},
   "outputs": [
    {
     "data": {
      "text/plain": [
       "(328, 32, 256)"
      ]
     },
     "execution_count": 6,
     "metadata": {},
     "output_type": "execute_result"
    }
   ],
   "source": [
    "import numpy as np\n",
    "x_val = np.load('/home/ducanh/hain/hungp/NeurIPS_BEETL/numpy_data_binary/X_val.npy')\n",
    "x_val.shape"
   ]
  },
  {
   "cell_type": "code",
   "execution_count": 7,
   "metadata": {},
   "outputs": [
    {
     "data": {
      "text/plain": [
       "(50, 32, 256)"
      ]
     },
     "execution_count": 7,
     "metadata": {},
     "output_type": "execute_result"
    }
   ],
   "source": [
    "input = x_val[:50, :, :]\n",
    "input.shape"
   ]
  },
  {
   "cell_type": "code",
   "execution_count": null,
   "metadata": {},
   "outputs": [],
   "source": [
    "model = EEGNetv4(\n",
    "    in_chans = in_chans,\n",
    "    n_classes = 3,\n",
    "    input_window_samples=256,\n",
    ")\n",
    "\n",
    "# model = util.shallow_net.EEGShallowClassifier(in_chans, labelsize, window_size, return_feature=False)\n",
    "if cuda:\n",
    "    model.cuda()\n",
    "\n",
    "checkpoint = torch.load(savename)\n",
    "model.load_state_dict(checkpoint['model_state_dict'])\n",
    "model.eval()"
   ]
  }
 ],
 "metadata": {
  "kernelspec": {
   "display_name": "Python 3.8.13 ('yolov4')",
   "language": "python",
   "name": "python3"
  },
  "language_info": {
   "codemirror_mode": {
    "name": "ipython",
    "version": 3
   },
   "file_extension": ".py",
   "mimetype": "text/x-python",
   "name": "python",
   "nbconvert_exporter": "python",
   "pygments_lexer": "ipython3",
   "version": "3.8.13"
  },
  "vscode": {
   "interpreter": {
    "hash": "e122fa3ebfb795a2885f6aec974e3d1e6a66f6aebb6d7ae856fb30964b8ddec4"
   }
  }
 },
 "nbformat": 4,
 "nbformat_minor": 4
}
