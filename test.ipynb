{
 "cells": [
  {
   "cell_type": "code",
   "execution_count": 14,
   "metadata": {},
   "outputs": [
    {
     "name": "stdout",
     "output_type": "stream",
     "text": [
      "gpu:  True\n"
     ]
    }
   ],
   "source": [
    "from braindecode.util import set_random_seeds, np_to_var, var_to_np\n",
    "import matplotlib.pyplot as plt\n",
    "from moabb.datasets import BNCI2014001, Cho2017, PhysionetMI\n",
    "from moabb.paradigms import MotorImagery\n",
    "import numpy as np\n",
    "from numpy.random import RandomState\n",
    "import pickle\n",
    "import time\n",
    "import torch\n",
    "from torch import nn\n",
    "from torch import optim\n",
    "import torch.nn.functional as F\n",
    "\n",
    "import mne\n",
    "\n",
    "import start_kits.util.shallow_net\n",
    "from start_kits.util.utilfunc import get_balanced_batches\n",
    "from start_kits.util.preproc import plot_confusion_matrix\n",
    "\n",
    "from braindecode.models import ShallowFBCSPNet, EEGNetv1, EEGNetv4\n",
    "\n",
    "cuda = torch.cuda.is_available()\n",
    "print('gpu: ', cuda)\n",
    "device = 'cuda' if cuda else 'cpu'\n",
    "\n",
    "seed = 42\n",
    "torch.manual_seed(seed)\n",
    "torch.cuda.manual_seed(seed)\n",
    "np.random.seed(seed)\n",
    "torch.backends.cudnn.deterministic = True\n",
    "rng = RandomState(seed)"
   ]
  },
  {
   "cell_type": "code",
   "execution_count": 15,
   "metadata": {},
   "outputs": [
    {
     "name": "stdout",
     "output_type": "stream",
     "text": [
      "(2, 32, 256)\n",
      "torch.Size([2, 32, 256, 1])\n"
     ]
    }
   ],
   "source": [
    "import numpy as np\n",
    "x_val = np.load('/home/ducanh/hain/hungp/NeurIPS_BEETL/numpy_data_binary/X_val.npy')\n",
    "\n",
    "# original shape: (num_trial, num_electrons, num_samples) with each trial is 1 label\n",
    "input = x_val[:2, :, :]\n",
    "input = input.astype('float32') * 1e3\n",
    "print(input.shape)\n",
    "\n",
    "# add batch dims\n",
    "input = np.expand_dims(input, axis=0)\n",
    "\n",
    "# convert type to torch tensor\n",
    "input = torch.from_numpy(input)\n",
    "# reshape input size\n",
    "input = input.permute(1, 2, 3, 0)\n",
    "\n",
    "print(input.shape)"
   ]
  },
  {
   "cell_type": "code",
   "execution_count": 16,
   "metadata": {},
   "outputs": [
    {
     "data": {
      "text/plain": [
       "EEGNetv4(\n",
       "  (ensuredims): Ensure4d()\n",
       "  (dimshuffle): Expression(expression=_transpose_to_b_1_c_0) \n",
       "  (conv_temporal): Conv2d(1, 8, kernel_size=(1, 64), stride=(1, 1), padding=(0, 32), bias=False)\n",
       "  (bnorm_temporal): BatchNorm2d(8, eps=0.001, momentum=0.01, affine=True, track_running_stats=True)\n",
       "  (conv_spatial): Conv2dWithConstraint(8, 16, kernel_size=(32, 1), stride=(1, 1), groups=8, bias=False)\n",
       "  (bnorm_1): BatchNorm2d(16, eps=0.001, momentum=0.01, affine=True, track_running_stats=True)\n",
       "  (elu_1): Expression(expression=elu) \n",
       "  (pool_1): AvgPool2d(kernel_size=(1, 4), stride=(1, 4), padding=0)\n",
       "  (drop_1): Dropout(p=0.25, inplace=False)\n",
       "  (conv_separable_depth): Conv2d(16, 16, kernel_size=(1, 16), stride=(1, 1), padding=(0, 8), groups=16, bias=False)\n",
       "  (conv_separable_point): Conv2d(16, 16, kernel_size=(1, 1), stride=(1, 1), bias=False)\n",
       "  (bnorm_2): BatchNorm2d(16, eps=0.001, momentum=0.01, affine=True, track_running_stats=True)\n",
       "  (elu_2): Expression(expression=elu) \n",
       "  (pool_2): AvgPool2d(kernel_size=(1, 8), stride=(1, 8), padding=0)\n",
       "  (drop_2): Dropout(p=0.25, inplace=False)\n",
       "  (conv_classifier): Conv2d(16, 3, kernel_size=(1, 8), stride=(1, 1))\n",
       "  (softmax): LogSoftmax(dim=1)\n",
       "  (permute_back): Expression(expression=_transpose_1_0) \n",
       "  (squeeze): Expression(expression=squeeze_final_output) \n",
       ")"
      ]
     },
     "execution_count": 16,
     "metadata": {},
     "output_type": "execute_result"
    }
   ],
   "source": [
    "in_chans = 32\n",
    "\n",
    "model = EEGNetv4(\n",
    "    in_chans = in_chans,\n",
    "    n_classes = 3,\n",
    "    input_window_samples=256,\n",
    ")\n",
    "\n",
    "'''\n",
    "TODO: Load model pretrained here\n",
    "'''\n",
    "checkpoint = torch.load('three_classes.pth')\n",
    "model.load_state_dict(checkpoint['model_state_dict'])\n",
    "\n",
    "if cuda:\n",
    "    input = input.cuda()\n",
    "    model = model.cuda()\n",
    "model.eval()"
   ]
  },
  {
   "cell_type": "code",
   "execution_count": 17,
   "metadata": {},
   "outputs": [
    {
     "data": {
      "text/plain": [
       "torch.Size([2, 3])"
      ]
     },
     "execution_count": 17,
     "metadata": {},
     "output_type": "execute_result"
    }
   ],
   "source": [
    "# with torch.no_grad:\n",
    "out = model(input)\n",
    "out.shape"
   ]
  },
  {
   "cell_type": "code",
   "execution_count": 18,
   "metadata": {},
   "outputs": [
    {
     "data": {
      "text/plain": [
       "tensor([[-0.9576, -1.0947, -1.2675],\n",
       "        [-0.9187, -1.2136, -1.1913]], device='cuda:0',\n",
       "       grad_fn=<SelectBackward0>)"
      ]
     },
     "execution_count": 18,
     "metadata": {},
     "output_type": "execute_result"
    }
   ],
   "source": [
    "out"
   ]
  },
  {
   "cell_type": "code",
   "execution_count": 19,
   "metadata": {},
   "outputs": [
    {
     "name": "stdout",
     "output_type": "stream",
     "text": [
      "tensor([[0.3838, 0.3347, 0.2815],\n",
      "        [0.3990, 0.2971, 0.3038]], device='cuda:0', grad_fn=<SoftmaxBackward0>)\n"
     ]
    }
   ],
   "source": [
    "output = F.softmax(out, dim=1)\n",
    "print(output)"
   ]
  },
  {
   "cell_type": "code",
   "execution_count": 20,
   "metadata": {},
   "outputs": [],
   "source": [
    "# import pickle\n",
    "# weight = pickle.load(open('pickle_weight.pkl','rb'))"
   ]
  }
 ],
 "metadata": {
  "kernelspec": {
   "display_name": "Python 3.8.13 ('yolov4')",
   "language": "python",
   "name": "python3"
  },
  "language_info": {
   "codemirror_mode": {
    "name": "ipython",
    "version": 3
   },
   "file_extension": ".py",
   "mimetype": "text/x-python",
   "name": "python",
   "nbconvert_exporter": "python",
   "pygments_lexer": "ipython3",
   "version": "3.8.13"
  },
  "orig_nbformat": 4,
  "vscode": {
   "interpreter": {
    "hash": "e122fa3ebfb795a2885f6aec974e3d1e6a66f6aebb6d7ae856fb30964b8ddec4"
   }
  }
 },
 "nbformat": 4,
 "nbformat_minor": 2
}
