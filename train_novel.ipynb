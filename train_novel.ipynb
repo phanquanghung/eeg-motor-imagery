{
 "cells": [
  {
   "cell_type": "markdown",
   "metadata": {},
   "source": [
    "## Environment Setup"
   ]
  },
  {
   "cell_type": "markdown",
   "metadata": {},
   "source": [
    "1. Install pytorch from http://pytorch.org/ (you don't need to install torchvision).\n",
    "1. Install MOABB with pip: `pip install moabb`\n",
    "1. Install latest release of braindecode via pip: `pip install braindecode`\n",
    "1. mne, matplotlib, scikit-learn and pandas"
   ]
  },
  {
   "cell_type": "code",
   "execution_count": 2,
   "metadata": {},
   "outputs": [],
   "source": [
    "%matplotlib inline"
   ]
  },
  {
   "cell_type": "code",
   "execution_count": 3,
   "metadata": {},
   "outputs": [
    {
     "name": "stderr",
     "output_type": "stream",
     "text": [
      "/home/ducanh/.local/lib/python3.8/site-packages/tqdm/auto.py:22: TqdmWarning: IProgress not found. Please update jupyter and ipywidgets. See https://ipywidgets.readthedocs.io/en/stable/user_install.html\n",
      "  from .autonotebook import tqdm as notebook_tqdm\n"
     ]
    },
    {
     "name": "stdout",
     "output_type": "stream",
     "text": [
      "gpu:  True\n"
     ]
    }
   ],
   "source": [
    "from braindecode.util import set_random_seeds, np_to_var, var_to_np\n",
    "import matplotlib.pyplot as plt\n",
    "from moabb.datasets import BNCI2014001, Cho2017, PhysionetMI\n",
    "from moabb.paradigms import MotorImagery\n",
    "import numpy as np\n",
    "from numpy.random import RandomState\n",
    "import pickle\n",
    "import time\n",
    "import torch\n",
    "from torch import nn\n",
    "from torch import optim\n",
    "import torch.nn.functional as F\n",
    "\n",
    "import mne\n",
    "\n",
    "import start_kits.util.shallow_net\n",
    "from start_kits.util.utilfunc import get_balanced_batches\n",
    "from start_kits.util.preproc import plot_confusion_matrix\n",
    "\n",
    "cuda = torch.cuda.is_available()\n",
    "print('gpu: ', cuda)\n",
    "device = 'cuda' if cuda else 'cpu'\n",
    "\n",
    "seed = 42\n",
    "torch.manual_seed(seed)\n",
    "torch.cuda.manual_seed(seed)\n",
    "np.random.seed(seed)\n",
    "torch.backends.cudnn.deterministic = True\n",
    "rng = RandomState(seed)"
   ]
  },
  {
   "cell_type": "code",
   "execution_count": 4,
   "metadata": {},
   "outputs": [],
   "source": [
    "import torchmetrics\n",
    "from torchmetrics import CohenKappa, F1Score, Precision, Recall"
   ]
  },
  {
   "cell_type": "markdown",
   "metadata": {},
   "source": [
    "# Loading MI Data"
   ]
  },
  {
   "cell_type": "markdown",
   "metadata": {},
   "source": [
    "Use only left- and right-hand labels, the other labels will be listed as other."
   ]
  },
  {
   "cell_type": "code",
   "execution_count": 5,
   "metadata": {},
   "outputs": [
    {
     "name": "stdout",
     "output_type": "stream",
     "text": [
      "Train:  there are 15047 trials with 32 electrodes and 256 time samples\n",
      "\n",
      "Validation: there are 3072 trials with 32 electrodes and 256 time samples\n",
      "\n",
      "Test: there are 3072 trials with 32 electrodes and 256 time samples\n"
     ]
    }
   ],
   "source": [
    "# window_size = min(X_src1.shape[2], X_src2.shape[2], X_tgt.shape[2])\n",
    "\n",
    "# X_train = np.concatenate((X_src1[:, :, :window_size], X_src2[:, :, :window_size], X_tgt[:100, :, :window_size]))\n",
    "# y_train = np.concatenate((y_src1, y_src2, y_tgt[:100]))\n",
    "\n",
    "# X_val = X_tgt[100:150, :, :window_size]\n",
    "# y_val = y_tgt[100:150]\n",
    "\n",
    "# X_test = X_tgt[150:, :, :window_size]\n",
    "# y_test = y_tgt[150:]\n",
    "\n",
    "np_root = '/home/ducanh/hain/hungp/NeurIPS_BEETL/numpy_data_binary'\n",
    "\n",
    "X_train = np.load(f'{np_root}/X_train.npy')\n",
    "y_train = np.load(f'{np_root}/y_train.npy')\n",
    "\n",
    "X_val = np.load(f'{np_root}/X_val.npy')\n",
    "y_val = np.load(f'{np_root}/y_val.npy')\n",
    "\n",
    "X_test = np.load(f'{np_root}/X_test.npy')\n",
    "y_test = np.load(f'{np_root}/y_test.npy')\n",
    "\n",
    "window_size = 256\n",
    "\n",
    "print(\"Train:  there are {} trials with {} electrodes and {} time samples\".format(*X_train.shape))\n",
    "print(\"\\nValidation: there are {} trials with {} electrodes and {} time samples\".format(*X_val.shape))\n",
    "print(\"\\nTest: there are {} trials with {} electrodes and {} time samples\".format(*X_test.shape))"
   ]
  },
  {
   "cell_type": "markdown",
   "metadata": {},
   "source": [
    "## Training a CNN"
   ]
  },
  {
   "cell_type": "code",
   "execution_count": 6,
   "metadata": {},
   "outputs": [],
   "source": [
    "class TrainObject(object):\n",
    "    def __init__(self, X, y):\n",
    "        assert len(X) == len(y)\n",
    "        # Normalised, you could choose other normalisation strategy\n",
    "        mean = np.mean(X,axis=1,keepdims=True)\n",
    "        # here normalise across channels as an example, unlike the in the sleep kit\n",
    "        std = np.std(X, axis=1, keepdims=True)\n",
    "        X = (X - mean) / std\n",
    "        # we scale it to 1000 as a better training scale of the shallow CNN\n",
    "        # according to the orignal work of the paper referenced above\n",
    "        self.X = X.astype(np.float32) * 1e3\n",
    "        self.y = y.astype(np.int64)\n",
    "\n",
    "train_set = TrainObject(X_train, y=y_train)\n",
    "valid_set = TrainObject(X_val, y=y_val)\n",
    "test_set = TrainObject(X_test, y=y_test)"
   ]
  },
  {
   "cell_type": "markdown",
   "metadata": {},
   "source": [
    "New model"
   ]
  },
  {
   "cell_type": "code",
   "execution_count": 7,
   "metadata": {},
   "outputs": [],
   "source": [
    "in_chans = X_train.shape[1]\n",
    "labelsize = len(np.unique(y_train))\n",
    "# model = start_kits.util.shallow_net.EEGShallowClassifier(in_chans, labelsize, window_size, return_feature=False)"
   ]
  },
  {
   "cell_type": "code",
   "execution_count": 8,
   "metadata": {},
   "outputs": [],
   "source": [
    "from braindecode.models import ShallowFBCSPNet, EEGNetv1, EEGNetv4\n",
    "# model = ShallowFBCSPNet(\n",
    "#     in_chans = 32,\n",
    "#     n_classes = 2,\n",
    "#     input_window_samples=256,\n",
    "#     final_conv_length='auto',\n",
    "# )\n",
    "\n",
    "model = EEGNetv4(\n",
    "    in_chans = 32,\n",
    "    n_classes = 3,\n",
    "    input_window_samples=256,\n",
    ")\n"
   ]
  },
  {
   "cell_type": "code",
   "execution_count": 9,
   "metadata": {},
   "outputs": [],
   "source": [
    "if cuda:\n",
    "    model.cuda()"
   ]
  },
  {
   "cell_type": "markdown",
   "metadata": {},
   "source": [
    "End of new model."
   ]
  },
  {
   "cell_type": "code",
   "execution_count": 10,
   "metadata": {},
   "outputs": [
    {
     "data": {
      "text/plain": [
       "3"
      ]
     },
     "execution_count": 10,
     "metadata": {},
     "output_type": "execute_result"
    }
   ],
   "source": [
    "labelsize"
   ]
  },
  {
   "cell_type": "code",
   "execution_count": 11,
   "metadata": {},
   "outputs": [
    {
     "name": "stderr",
     "output_type": "stream",
     "text": [
      "/home/ducanh/anaconda3/envs/yolov4/lib/python3.8/site-packages/braindecode/util.py:66: UserWarning: np_to_var has been renamed np_to_th, please use np_to_th instead\n",
      "  warn(\"np_to_var has been renamed np_to_th, please use np_to_th instead\")\n"
     ]
    },
    {
     "name": "stdout",
     "output_type": "stream",
     "text": [
      "Epoch 0\n",
      "Train  Loss: 1.09523\n",
      "Train  Accuracy: 36.0%\n",
      "Valid  Loss: 1.09896\n",
      "Valid  Accuracy: 34.3%\n",
      "model saved\n",
      "[[508 289 223]\n",
      " [465 280 263]\n",
      " [540 237 267]]\n",
      "Normalized confusion matrix\n"
     ]
    },
    {
     "name": "stderr",
     "output_type": "stream",
     "text": [
      "/home/ducanh/anaconda3/envs/yolov4/lib/python3.8/site-packages/braindecode/util.py:107: UserWarning: var_to_np has been renamed th_to_np, please use th_to_np instead\n",
      "  warn(\"var_to_np has been renamed th_to_np, please use th_to_np instead\")\n"
     ]
    },
    {
     "data": {
      "image/png": "[encoded data removed]",
      "text/plain": [
       "<Figure size 432x288 with 2 Axes>"
      ]
     },
     "metadata": {
      "needs_background": "light"
     },
     "output_type": "display_data"
    },
    {
     "name": "stderr",
     "output_type": "stream",
     "text": [
      "/home/ducanh/anaconda3/envs/yolov4/lib/python3.8/site-packages/braindecode/util.py:66: UserWarning: np_to_var has been renamed np_to_th, please use np_to_th instead\n",
      "  warn(\"np_to_var has been renamed np_to_th, please use np_to_th instead\")\n"
     ]
    },
    {
     "name": "stdout",
     "output_type": "stream",
     "text": [
      "Epoch 1\n",
      "Train  Loss: 1.06688\n",
      "Train  Accuracy: 41.4%\n",
      "Valid  Loss: 1.08875\n",
      "Valid  Accuracy: 39.3%\n",
      "model saved\n",
      "[[512 310 198]\n",
      " [432 317 259]\n",
      " [486 179 379]]\n",
      "Normalized confusion matrix\n"
     ]
    },
    {
     "name": "stderr",
     "output_type": "stream",
     "text": [
      "/home/ducanh/anaconda3/envs/yolov4/lib/python3.8/site-packages/braindecode/util.py:107: UserWarning: var_to_np has been renamed th_to_np, please use th_to_np instead\n",
      "  warn(\"var_to_np has been renamed th_to_np, please use th_to_np instead\")\n"
     ]
    },
    {
     "data": {
      "image/png": "[encoded data removed]",
      "text/plain": [
       "<Figure size 432x288 with 2 Axes>"
      ]
     },
     "metadata": {
      "needs_background": "light"
     },
     "output_type": "display_data"
    },
    {
     "name": "stderr",
     "output_type": "stream",
     "text": [
      "/home/ducanh/anaconda3/envs/yolov4/lib/python3.8/site-packages/braindecode/util.py:66: UserWarning: np_to_var has been renamed np_to_th, please use np_to_th instead\n",
      "  warn(\"np_to_var has been renamed np_to_th, please use np_to_th instead\")\n"
     ]
    },
    {
     "name": "stdout",
     "output_type": "stream",
     "text": [
      "Epoch 2\n",
      "Train  Loss: 0.99921\n",
      "Train  Accuracy: 45.9%\n",
      "Valid  Loss: 1.04077\n",
      "Valid  Accuracy: 47.6%\n",
      "model saved\n",
      "[[475 410 135]\n",
      " [355 417 236]\n",
      " [353 121 570]]\n",
      "Normalized confusion matrix\n"
     ]
    },
    {
     "name": "stderr",
     "output_type": "stream",
     "text": [
      "/home/ducanh/anaconda3/envs/yolov4/lib/python3.8/site-packages/braindecode/util.py:107: UserWarning: var_to_np has been renamed th_to_np, please use th_to_np instead\n",
      "  warn(\"var_to_np has been renamed th_to_np, please use th_to_np instead\")\n"
     ]
    },
    {
     "data": {
      "image/png": "[encoded data removed]",
      "text/plain": [
       "<Figure size 432x288 with 2 Axes>"
      ]
     },
     "metadata": {
      "needs_background": "light"
     },
     "output_type": "display_data"
    },
    {
     "name": "stderr",
     "output_type": "stream",
     "text": [
      "/home/ducanh/anaconda3/envs/yolov4/lib/python3.8/site-packages/braindecode/util.py:66: UserWarning: np_to_var has been renamed np_to_th, please use np_to_th instead\n",
      "  warn(\"np_to_var has been renamed np_to_th, please use np_to_th instead\")\n"
     ]
    },
    {
     "name": "stdout",
     "output_type": "stream",
     "text": [
      "Epoch 3\n",
      "Train  Loss: 0.94717\n",
      "Train  Accuracy: 52.3%\n",
      "Valid  Loss: 0.97846\n",
      "Valid  Accuracy: 57.4%\n",
      "model saved\n",
      "[[407 380 233]\n",
      " [242 435 331]\n",
      " [ 92  30 922]]\n",
      "Normalized confusion matrix\n"
     ]
    },
    {
     "name": "stderr",
     "output_type": "stream",
     "text": [
      "/home/ducanh/anaconda3/envs/yolov4/lib/python3.8/site-packages/braindecode/util.py:107: UserWarning: var_to_np has been renamed th_to_np, please use th_to_np instead\n",
      "  warn(\"var_to_np has been renamed th_to_np, please use th_to_np instead\")\n"
     ]
    },
    {
     "data": {
      "image/png": "[encoded data removed]",
      "text/plain": [
       "<Figure size 432x288 with 2 Axes>"
      ]
     },
     "metadata": {
      "needs_background": "light"
     },
     "output_type": "display_data"
    },
    {
     "name": "stderr",
     "output_type": "stream",
     "text": [
      "/home/ducanh/anaconda3/envs/yolov4/lib/python3.8/site-packages/braindecode/util.py:66: UserWarning: np_to_var has been renamed np_to_th, please use np_to_th instead\n",
      "  warn(\"np_to_var has been renamed np_to_th, please use np_to_th instead\")\n"
     ]
    },
    {
     "name": "stdout",
     "output_type": "stream",
     "text": [
      "Epoch 4\n"
     ]
    },
    {
     "name": "stderr",
     "output_type": "stream",
     "text": [
      "/home/ducanh/anaconda3/envs/yolov4/lib/python3.8/site-packages/braindecode/util.py:107: UserWarning: var_to_np has been renamed th_to_np, please use th_to_np instead\n",
      "  warn(\"var_to_np has been renamed th_to_np, please use th_to_np instead\")\n"
     ]
    },
    {
     "name": "stdout",
     "output_type": "stream",
     "text": [
      "Train  Loss: 0.90781\n",
      "Train  Accuracy: 54.2%\n",
      "Valid  Loss: 0.95107\n",
      "Valid  Accuracy: 55.8%\n",
      "Epoch 5\n",
      "Train  Loss: 0.88863\n",
      "Train  Accuracy: 54.6%\n",
      "Valid  Loss: 0.95416\n",
      "Valid  Accuracy: 53.7%\n",
      "Epoch 6\n",
      "Train  Loss: 0.87721\n",
      "Train  Accuracy: 54.6%\n",
      "Valid  Loss: 0.96789\n",
      "Valid  Accuracy: 52.2%\n",
      "Epoch 7\n",
      "Train  Loss: 0.86734\n",
      "Train  Accuracy: 55.1%\n",
      "Valid  Loss: 0.99280\n",
      "Valid  Accuracy: 49.9%\n",
      "Epoch 8\n",
      "Train  Loss: 0.85422\n",
      "Train  Accuracy: 55.8%\n",
      "Valid  Loss: 1.01587\n",
      "Valid  Accuracy: 48.6%\n",
      "Epoch 9\n",
      "Train  Loss: 0.83909\n",
      "Train  Accuracy: 56.7%\n",
      "Valid  Loss: 1.04841\n",
      "Valid  Accuracy: 47.7%\n",
      "Epoch 10\n",
      "Train  Loss: 0.81840\n",
      "Train  Accuracy: 58.3%\n",
      "Valid  Loss: 1.07338\n",
      "Valid  Accuracy: 47.6%\n",
      "Epoch 11\n",
      "Train  Loss: 0.80401\n",
      "Train  Accuracy: 59.5%\n",
      "Valid  Loss: 1.12022\n",
      "Valid  Accuracy: 46.5%\n",
      "Epoch 12\n",
      "Train  Loss: 0.78445\n",
      "Train  Accuracy: 61.2%\n",
      "Valid  Loss: 1.13166\n",
      "Valid  Accuracy: 48.2%\n",
      "Epoch 13\n",
      "Train  Loss: 0.77198\n",
      "Train  Accuracy: 62.3%\n",
      "Valid  Loss: 1.15441\n",
      "Valid  Accuracy: 48.3%\n",
      "Epoch 14\n",
      "Train  Loss: 0.76008\n",
      "Train  Accuracy: 63.4%\n",
      "Valid  Loss: 1.15845\n",
      "Valid  Accuracy: 49.3%\n",
      "Epoch 15\n",
      "Train  Loss: 0.74876\n",
      "Train  Accuracy: 64.2%\n",
      "Valid  Loss: 1.15344\n",
      "Valid  Accuracy: 50.3%\n",
      "Epoch 16\n",
      "Train  Loss: 0.73737\n",
      "Train  Accuracy: 65.0%\n",
      "Valid  Loss: 1.14297\n",
      "Valid  Accuracy: 51.7%\n",
      "Epoch 17\n",
      "Train  Loss: 0.72841\n",
      "Train  Accuracy: 65.6%\n",
      "Valid  Loss: 1.17963\n",
      "Valid  Accuracy: 50.6%\n",
      "Epoch 18\n",
      "Train  Loss: 0.71859\n",
      "Train  Accuracy: 66.2%\n",
      "Valid  Loss: 1.20037\n",
      "Valid  Accuracy: 50.9%\n",
      "Epoch 19\n",
      "Train  Loss: 0.70735\n",
      "Train  Accuracy: 66.9%\n",
      "Valid  Loss: 1.17945\n",
      "Valid  Accuracy: 52.1%\n",
      "Epoch 20\n",
      "Train  Loss: 0.69646\n",
      "Train  Accuracy: 67.6%\n",
      "Valid  Loss: 1.20096\n",
      "Valid  Accuracy: 52.3%\n",
      "Epoch 21\n",
      "Train  Loss: 0.68284\n",
      "Train  Accuracy: 68.7%\n",
      "Valid  Loss: 1.21112\n",
      "Valid  Accuracy: 53.0%\n",
      "Epoch 22\n",
      "Train  Loss: 0.67068\n",
      "Train  Accuracy: 69.2%\n",
      "Valid  Loss: 1.23221\n",
      "Valid  Accuracy: 53.7%\n",
      "Epoch 23\n",
      "Train  Loss: 0.65869\n",
      "Train  Accuracy: 70.0%\n",
      "Valid  Loss: 1.25677\n",
      "Valid  Accuracy: 54.2%\n",
      "Epoch 24\n",
      "Train  Loss: 0.64628\n",
      "Train  Accuracy: 71.0%\n",
      "Valid  Loss: 1.24858\n",
      "Valid  Accuracy: 55.4%\n",
      "Epoch 25\n",
      "Train  Loss: 0.63558\n",
      "Train  Accuracy: 71.6%\n",
      "Valid  Loss: 1.25093\n",
      "Valid  Accuracy: 56.0%\n",
      "Epoch 26\n",
      "Train  Loss: 0.62789\n",
      "Train  Accuracy: 71.8%\n",
      "Valid  Loss: 1.27626\n",
      "Valid  Accuracy: 55.5%\n",
      "Epoch 27\n",
      "Train  Loss: 0.61754\n",
      "Train  Accuracy: 72.6%\n",
      "Valid  Loss: 1.27536\n",
      "Valid  Accuracy: 55.5%\n",
      "Epoch 28\n",
      "Train  Loss: 0.60921\n",
      "Train  Accuracy: 73.6%\n",
      "Valid  Loss: 1.27774\n",
      "Valid  Accuracy: 55.6%\n",
      "Epoch 29\n",
      "Train  Loss: 0.60286\n",
      "Train  Accuracy: 73.9%\n",
      "Valid  Loss: 1.32894\n",
      "Valid  Accuracy: 55.1%\n",
      "Epoch 30\n",
      "Train  Loss: 0.59471\n",
      "Train  Accuracy: 74.6%\n",
      "Valid  Loss: 1.31277\n",
      "Valid  Accuracy: 56.1%\n",
      "Epoch 31\n",
      "Train  Loss: 0.58839\n",
      "Train  Accuracy: 75.0%\n",
      "Valid  Loss: 1.33742\n",
      "Valid  Accuracy: 56.0%\n",
      "Epoch 32\n",
      "Train  Loss: 0.58256\n",
      "Train  Accuracy: 75.2%\n",
      "Valid  Loss: 1.36097\n",
      "Valid  Accuracy: 55.4%\n",
      "Epoch 33\n",
      "Train  Loss: 0.57652\n",
      "Train  Accuracy: 75.6%\n",
      "Valid  Loss: 1.39817\n",
      "Valid  Accuracy: 55.7%\n",
      "Epoch 34\n",
      "Train  Loss: 0.57151\n",
      "Train  Accuracy: 76.0%\n",
      "Valid  Loss: 1.40189\n",
      "Valid  Accuracy: 55.1%\n",
      "Epoch 35\n",
      "Train  Loss: 0.56620\n",
      "Train  Accuracy: 76.6%\n",
      "Valid  Loss: 1.37174\n",
      "Valid  Accuracy: 55.4%\n",
      "Epoch 36\n",
      "Train  Loss: 0.56128\n",
      "Train  Accuracy: 76.7%\n",
      "Valid  Loss: 1.37567\n",
      "Valid  Accuracy: 55.5%\n",
      "Epoch 37\n",
      "Train  Loss: 0.55543\n",
      "Train  Accuracy: 77.3%\n",
      "Valid  Loss: 1.38441\n",
      "Valid  Accuracy: 55.4%\n",
      "Epoch 38\n",
      "Train  Loss: 0.55154\n",
      "Train  Accuracy: 77.4%\n",
      "Valid  Loss: 1.40794\n",
      "Valid  Accuracy: 54.2%\n",
      "Epoch 39\n",
      "Train  Loss: 0.54779\n",
      "Train  Accuracy: 77.8%\n",
      "Valid  Loss: 1.41898\n",
      "Valid  Accuracy: 53.9%\n",
      "Epoch 40\n",
      "Train  Loss: 0.54196\n",
      "Train  Accuracy: 78.0%\n",
      "Valid  Loss: 1.41412\n",
      "Valid  Accuracy: 54.2%\n",
      "Epoch 41\n",
      "Train  Loss: 0.53498\n",
      "Train  Accuracy: 78.5%\n",
      "Valid  Loss: 1.40684\n",
      "Valid  Accuracy: 54.7%\n",
      "Epoch 42\n",
      "Train  Loss: 0.53075\n",
      "Train  Accuracy: 78.7%\n",
      "Valid  Loss: 1.39407\n",
      "Valid  Accuracy: 55.0%\n",
      "Epoch 43\n",
      "Train  Loss: 0.52656\n",
      "Train  Accuracy: 78.8%\n",
      "Valid  Loss: 1.38186\n",
      "Valid  Accuracy: 54.9%\n",
      "Epoch 44\n",
      "Train  Loss: 0.52144\n",
      "Train  Accuracy: 79.1%\n",
      "Valid  Loss: 1.38421\n",
      "Valid  Accuracy: 54.2%\n",
      "Epoch 45\n",
      "Train  Loss: 0.51824\n",
      "Train  Accuracy: 79.3%\n",
      "Valid  Loss: 1.38220\n",
      "Valid  Accuracy: 54.0%\n",
      "Epoch 46\n",
      "Train  Loss: 0.51395\n",
      "Train  Accuracy: 79.3%\n",
      "Valid  Loss: 1.37056\n",
      "Valid  Accuracy: 53.6%\n",
      "Epoch 47\n",
      "Train  Loss: 0.51153\n",
      "Train  Accuracy: 79.3%\n",
      "Valid  Loss: 1.39454\n",
      "Valid  Accuracy: 53.4%\n",
      "Epoch 48\n",
      "Train  Loss: 0.50630\n",
      "Train  Accuracy: 79.9%\n",
      "Valid  Loss: 1.38038\n",
      "Valid  Accuracy: 54.2%\n",
      "Epoch 49\n",
      "Train  Loss: 0.50259\n",
      "Train  Accuracy: 80.0%\n",
      "Valid  Loss: 1.37995\n",
      "Valid  Accuracy: 54.7%\n",
      "time is 45.39759373664856\n"
     ]
    }
   ],
   "source": [
    "batch_size = 128\n",
    "optimizer = optim.AdamW(model.parameters(), lr=0.0001, weight_decay=0.5*0.001)\n",
    "\n",
    "total_epoch = -1\n",
    "Tlosses, Taccuracies = [], []\n",
    "Vlosses, Vaccuracies = [], []\n",
    "highest_acc = 0\n",
    "\n",
    "savename = \"three_classes.pth\"\n",
    "\n",
    "start=time.time()\n",
    "\n",
    "for i_epoch in range(50):\n",
    "    total_epoch += 1\n",
    "    # Randomize batches ids and get iterater 'i_trials_in_batch'\n",
    "    i_trials_in_batch = get_balanced_batches(len(train_set.X), rng, shuffle=True,\n",
    "                                             batch_size=batch_size)\n",
    "    # Set model to training mode\n",
    "    model.train()\n",
    "    for i_trials in i_trials_in_batch:\n",
    "        # Have to add empty fourth dimension to X for training\n",
    "        batch_X = train_set.X[i_trials][:, :, :, None]\n",
    "        batch_y = train_set.y[i_trials]\n",
    "        # convert from nparray to torch tensor\n",
    "        net_in = np_to_var(batch_X)\n",
    "    \n",
    "        if cuda:\n",
    "            net_in = net_in.cuda()\n",
    "        net_target = np_to_var(batch_y)\n",
    "        if cuda:\n",
    "            net_target = net_target.cuda()\n",
    "        # Remove gradients of last backward pass from all parameters\n",
    "        optimizer.zero_grad()\n",
    "        # Compute outputs of the network\n",
    "        outputs = model(net_in)\n",
    "        # Compute the loss\n",
    "        loss = F.nll_loss(outputs, net_target)\n",
    "        # Do the backpropagation\n",
    "        loss.backward()\n",
    "        # Update parameters with the optimizer\n",
    "        optimizer.step()\n",
    "    \n",
    "    # Set model to evaluation mode\n",
    "    model.eval()\n",
    "    print(\"Epoch {:d}\".format(total_epoch))\n",
    "    average_acc = []\n",
    "    average_loss = []\n",
    "    \n",
    "    # Here we compute training accuracy and validation accuracy of current model\n",
    "    for setname, dataset in (('Train', train_set), ('Valid', valid_set)):\n",
    "        i_trials_in_batch = get_balanced_batches(len(dataset.X), rng, shuffle=False,\n",
    "                                                 batch_size=batch_size)\n",
    "        outputs=None\n",
    "        for i_trials in i_trials_in_batch:\n",
    "            batch_X = dataset.X[i_trials][:, :, :, None]\n",
    "            batch_y = dataset.y[i_trials]\n",
    "            net_in = np_to_var(batch_X)\n",
    "            if cuda:\n",
    "                net_in = net_in.cuda()\n",
    "            toutputs = model(net_in)\n",
    "            if outputs is None:\n",
    "                temp = toutputs.cpu()\n",
    "                outputs = temp.detach().numpy()\n",
    "            else:\n",
    "                temp = toutputs.cpu()\n",
    "                outputs = np.concatenate((outputs,temp.detach().numpy()))\n",
    "        net_target = np_to_var(dataset.y)\n",
    "        loss = F.nll_loss(torch.from_numpy(outputs), net_target)\n",
    "        print(\"{:6s} Loss: {:.5f}\".format(\n",
    "            setname, float(var_to_np(loss))))\n",
    "        predicted_labels = np.argmax((outputs), axis=1)\n",
    "        accuracy = np.mean(dataset.y  == predicted_labels)\n",
    "        \n",
    "        print(\"{:6s} Accuracy: {:.1f}%\".format(setname, accuracy * 100))\n",
    "        if setname == 'Train':\n",
    "            Tlosses.append(loss)\n",
    "            Taccuracies.append(accuracy)\n",
    "            current_Tacc=accuracy\n",
    "        elif setname == 'Valid':\n",
    "            Vlosses.append(loss)\n",
    "            Vaccuracies.append(accuracy)\n",
    "            if accuracy>=highest_acc:\n",
    "                torch.save({\n",
    "                    'in_chans': in_chans,\n",
    "                    'model_state_dict': model.state_dict(),\n",
    "                    'optimizer_state_dict': optimizer.state_dict(),\n",
    "                    'n_classes': labelsize,\n",
    "                    'input_time_length': window_size\n",
    "                }, savename)\n",
    "\n",
    "                highest_acc=accuracy\n",
    "                print('model saved')\n",
    "                plot_confusion_matrix(dataset.y, predicted_labels, \n",
    "                                      classes=['LH', 'RH', 'Other'], normalize=True,\n",
    "                                      title='Validation confusion matrix')\n",
    "                plt.show()\n",
    "                # plot_confusion_matrix(dataset.y, predicted_labels, \n",
    "                #                       classes=['LH', 'Other'], normalize=True,\n",
    "                #                       title='Validation confusion matrix')\n",
    "                # plt.show()\n",
    "        else:\n",
    "            average_acc.append(accuracy)\n",
    "            average_loss.append(accuracy)\n",
    "end = time.time()\n",
    "\n",
    "print('time is {}'.format(end-start))"
   ]
  },
  {
   "cell_type": "markdown",
   "metadata": {},
   "source": [
    "Here we can observe that on training set, the classification accuracy is fairly high, while it is usually not able to generalised well to the new subject directly with this simple strategy, this subject is just a well-performed case for tutorial purpose. Usually validation and test accuracy of a new subject decrease a lot (sometimes 30% or even more). Transfer learning strategies should be used to solve this problem."
   ]
  },
  {
   "cell_type": "code",
   "execution_count": 12,
   "metadata": {},
   "outputs": [
    {
     "data": {
      "image/png": "[encoded data removed]",
      "text/plain": [
       "<Figure size 432x288 with 1 Axes>"
      ]
     },
     "metadata": {
      "needs_background": "light"
     },
     "output_type": "display_data"
    },
    {
     "data": {
      "image/png": "[encoded data removed]",
      "text/plain": [
       "<Figure size 432x288 with 1 Axes>"
      ]
     },
     "metadata": {
      "needs_background": "light"
     },
     "output_type": "display_data"
    }
   ],
   "source": [
    "t = np.arange(0.0, len(Tlosses), 1)+1\n",
    "plt.plot(t, Tlosses, 'r', t, Vlosses, 'y')\n",
    "plt.legend(('Training loss', 'validation loss'))\n",
    "plt.show()\n",
    "\n",
    "plt.plot(t, Taccuracies, 'r', t, Vaccuracies, 'y')\n",
    "plt.legend(('Training accuracy', 'Validation accuracy'))\n",
    "plt.show()"
   ]
  },
  {
   "cell_type": "code",
   "execution_count": 13,
   "metadata": {},
   "outputs": [
    {
     "name": "stdout",
     "output_type": "stream",
     "text": [
      "testset Loss: 0.97846\n",
      "testset Accuracy: 57.4%\n",
      "[[407 380 233]\n",
      " [242 435 331]\n",
      " [ 92  30 922]]\n",
      "Normalized confusion matrix\n"
     ]
    },
    {
     "data": {
      "image/png": "[encoded data removed]",
      "text/plain": [
       "<Figure size 432x288 with 2 Axes>"
      ]
     },
     "metadata": {
      "needs_background": "light"
     },
     "output_type": "display_data"
    }
   ],
   "source": [
    "# model = start_kits.util.shallow_net.EEGShallowClassifier(in_chans, labelsize, window_size, return_feature=False)\n",
    "\n",
    "if cuda:\n",
    "    model.cuda()\n",
    "checkpoint = torch.load(savename)\n",
    "model.load_state_dict(checkpoint['model_state_dict'])\n",
    "model.eval()\n",
    "\n",
    "average_acc, average_loss = [], []\n",
    "setname = 'testset'\n",
    "dataset = test_set\n",
    "\n",
    "i_trials_in_batch = get_balanced_batches(len(dataset.X), rng, shuffle=False,\n",
    "                                         batch_size=batch_size)\n",
    "outputs=None\n",
    "for i_trials in i_trials_in_batch:\n",
    "    # Have to add empty fourth dimension to X\n",
    "    batch_X = dataset.X[i_trials][:, :, :, None]\n",
    "    batch_y = dataset.y[i_trials]\n",
    "    net_in = np_to_var(batch_X)\n",
    "    if cuda:\n",
    "        net_in = net_in.cuda()\n",
    "    toutputs = model(net_in)\n",
    "    if outputs is None:\n",
    "        temp = toutputs.cpu()\n",
    "        outputs = temp.detach().numpy()\n",
    "    else:\n",
    "        temp = toutputs.cpu()\n",
    "        outputs = np.concatenate((outputs,temp.detach().numpy()))\n",
    "\n",
    "net_target = np_to_var(dataset.y)\n",
    "loss = F.nll_loss(torch.from_numpy(outputs), net_target)\n",
    "print(\"{:6s} Loss: {:.5f}\".format(setname, float(var_to_np(loss))))\n",
    "predicted_labels = np.argmax((outputs), axis=1)\n",
    "accuracy = np.mean(dataset.y  == predicted_labels)\n",
    "\n",
    "print(\"{:6s} Accuracy: {:.1f}%\".format(setname, accuracy * 100))\n",
    "plot_confusion_matrix(dataset.y, predicted_labels, \n",
    "                      classes=['LH','RH','Other'], normalize=True,\n",
    "                      title='Validation confusion matrix')\n",
    "plt.show()"
   ]
  },
  {
   "cell_type": "code",
   "execution_count": 14,
   "metadata": {},
   "outputs": [],
   "source": [
    "y_tensor = torch.from_numpy(dataset.y)\n",
    "y_pred = torch.from_numpy(predicted_labels)"
   ]
  },
  {
   "cell_type": "code",
   "execution_count": 15,
   "metadata": {},
   "outputs": [
    {
     "name": "stdout",
     "output_type": "stream",
     "text": [
      "Type of a :\n",
      " <class 'numpy.ndarray'>\n",
      "Type of a :\n",
      " <class 'torch.Tensor'>\n",
      "t:\n",
      " [0 0 0 ... 2 2 2]\n",
      "t:\n",
      " tensor([0, 0, 0,  ..., 2, 2, 2])\n"
     ]
    }
   ],
   "source": [
    "print(\"Type of a :\\n\", type(dataset.y))\n",
    "print(\"Type of a :\\n\", type(y_tensor))\n",
    "# Convert the numpy.ndarray to tensor\n",
    "print(\"t:\\n\", dataset.y)\n",
    "print(\"t:\\n\", y_tensor)"
   ]
  },
  {
   "cell_type": "code",
   "execution_count": 16,
   "metadata": {},
   "outputs": [
    {
     "data": {
      "text/plain": [
       "tensor(0.3600)"
      ]
     },
     "execution_count": 16,
     "metadata": {},
     "output_type": "execute_result"
    }
   ],
   "source": [
    "cohenkappa = CohenKappa(num_classes=3)\n",
    "cohenkappa(y_tensor, y_pred)"
   ]
  },
  {
   "cell_type": "code",
   "execution_count": 17,
   "metadata": {},
   "outputs": [],
   "source": [
    "import pickle\n",
    "pickle.dump(model, open('pickle_weight.pkl','wb'))"
   ]
  }
 ],
 "metadata": {
  "kernelspec": {
   "display_name": "Python 3.8.13 ('yolov4')",
   "language": "python",
   "name": "python3"
  },
  "language_info": {
   "codemirror_mode": {
    "name": "ipython",
    "version": 3
   },
   "file_extension": ".py",
   "mimetype": "text/x-python",
   "name": "python",
   "nbconvert_exporter": "python",
   "pygments_lexer": "ipython3",
   "version": "3.8.13"
  },
  "vscode": {
   "interpreter": {
    "hash": "e122fa3ebfb795a2885f6aec974e3d1e6a66f6aebb6d7ae856fb30964b8ddec4"
   }
  }
 },
 "nbformat": 4,
 "nbformat_minor": 4
}
