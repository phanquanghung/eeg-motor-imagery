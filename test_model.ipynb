{
 "cells": [
  {
   "cell_type": "code",
   "execution_count": 1,
   "metadata": {},
   "outputs": [],
   "source": [
    "%matplotlib inline"
   ]
  },
  {
   "cell_type": "code",
   "execution_count": 2,
   "metadata": {},
   "outputs": [
    {
     "name": "stderr",
     "output_type": "stream",
     "text": [
      "/home/ducanh/.local/lib/python3.8/site-packages/tqdm/auto.py:22: TqdmWarning: IProgress not found. Please update jupyter and ipywidgets. See https://ipywidgets.readthedocs.io/en/stable/user_install.html\n",
      "  from .autonotebook import tqdm as notebook_tqdm\n"
     ]
    },
    {
     "name": "stdout",
     "output_type": "stream",
     "text": [
      "gpu:  True\n"
     ]
    }
   ],
   "source": [
    "from braindecode.util import set_random_seeds, np_to_var, var_to_np\n",
    "import matplotlib.pyplot as plt\n",
    "from moabb.datasets import BNCI2014001, Cho2017, PhysionetMI\n",
    "from moabb.paradigms import MotorImagery\n",
    "import numpy as np\n",
    "from numpy.random import RandomState\n",
    "import pickle\n",
    "import time\n",
    "import torch\n",
    "from torch import nn\n",
    "from torch import optim\n",
    "import torch.nn.functional as F\n",
    "\n",
    "import mne\n",
    "\n",
    "import start_kits.util.shallow_net\n",
    "from start_kits.util.utilfunc import get_balanced_batches\n",
    "from start_kits.util.preproc import plot_confusion_matrix\n",
    "\n",
    "cuda = torch.cuda.is_available()\n",
    "print('gpu: ', cuda)\n",
    "device = 'cuda' if cuda else 'cpu'\n",
    "\n",
    "seed = 42\n",
    "torch.manual_seed(seed)\n",
    "torch.cuda.manual_seed(seed)\n",
    "np.random.seed(seed)\n",
    "torch.backends.cudnn.deterministic = True\n",
    "rng = RandomState(seed)"
   ]
  },
  {
   "cell_type": "code",
   "execution_count": 4,
   "metadata": {},
   "outputs": [],
   "source": [
    "import torchmetrics\n",
    "from torchmetrics import CohenKappa, F1Score, Precision, Recall"
   ]
  },
  {
   "cell_type": "markdown",
   "metadata": {},
   "source": [
    "To download source MI datasets, we will use MOABB. By default, the datasets are downloaded in a `mne_data` folder in your home directory. To change this default repository, uncomment the next lines of codes and indicate the chosen path."
   ]
  },
  {
   "cell_type": "code",
   "execution_count": 3,
   "metadata": {},
   "outputs": [
    {
     "name": "stdout",
     "output_type": "stream",
     "text": [
      "Train:  there are 328 trials with 32 electrodes and 256 time samples\n",
      "\n",
      "Validation: there are 328 trials with 32 electrodes and 256 time samples\n",
      "\n",
      "Test: there are 328 trials with 32 electrodes and 256 time samples\n"
     ]
    }
   ],
   "source": [
    "# window_size = min(X_src1.shape[2], X_src2.shape[2], X_tgt.shape[2])\n",
    "\n",
    "# X_train = np.concatenate((X_src1[:, :, :window_size], X_src2[:, :, :window_size], X_tgt[:100, :, :window_size]))\n",
    "# y_train = np.concatenate((y_src1, y_src2, y_tgt[:100]))\n",
    "\n",
    "# X_val = X_tgt[100:150, :, :window_size]\n",
    "# y_val = y_tgt[100:150]\n",
    "\n",
    "# X_test = X_tgt[150:, :, :window_size]\n",
    "# y_test = y_tgt[150:]\n",
    "\n",
    "np_root = '/home/ducanh/hain/hungp/NeurIPS_BEETL/numpy_data_binary'\n",
    "\n",
    "X_train = np.load(f'{np_root}/X_train.npy')\n",
    "y_train = np.load(f'{np_root}/y_train.npy')\n",
    "\n",
    "X_val = np.load(f'{np_root}/X_val.npy')\n",
    "y_val = np.load(f'{np_root}/y_val.npy')\n",
    "\n",
    "X_test = np.load(f'{np_root}/X_test.npy')\n",
    "y_test = np.load(f'{np_root}/y_test.npy')\n",
    "\n",
    "window_size = 256\n",
    "\n",
    "print(\"Train:  there are {} trials with {} electrodes and {} time samples\".format(*X_train.shape))\n",
    "print(\"\\nValidation: there are {} trials with {} electrodes and {} time samples\".format(*X_val.shape))\n",
    "print(\"\\nTest: there are {} trials with {} electrodes and {} time samples\".format(*X_test.shape))"
   ]
  },
  {
   "cell_type": "code",
   "execution_count": 4,
   "metadata": {},
   "outputs": [],
   "source": [
    "class TrainObject(object):\n",
    "    def __init__(self, X, y):\n",
    "        assert len(X) == len(y)\n",
    "        # Normalised, you could choose other normalisation strategy\n",
    "        mean = np.mean(X,axis=1,keepdims=True)\n",
    "        # here normalise across channels as an example, unlike the in the sleep kit\n",
    "        std = np.std(X, axis=1, keepdims=True)\n",
    "        X = (X - mean) / std\n",
    "        # we scale it to 1000 as a better training scale of the shallow CNN\n",
    "        # according to the orignal work of the paper referenced above\n",
    "        self.X = X.astype(np.float32) * 1e3\n",
    "        self.y = y.astype(np.int64)\n",
    "\n",
    "train_set = TrainObject(X_train, y=y_train)\n",
    "valid_set = TrainObject(X_val, y=y_val)\n",
    "test_set = TrainObject(X_test, y=y_test)"
   ]
  },
  {
   "cell_type": "markdown",
   "metadata": {},
   "source": [
    "New model"
   ]
  },
  {
   "cell_type": "code",
   "execution_count": 5,
   "metadata": {},
   "outputs": [],
   "source": [
    "in_chans = X_train.shape[1]\n",
    "labelsize = len(np.unique(y_train))\n",
    "# model = start_kits.util.shallow_net.EEGShallowClassifier(in_chans, labelsize, window_size, return_feature=False)"
   ]
  },
  {
   "cell_type": "code",
   "execution_count": 6,
   "metadata": {},
   "outputs": [],
   "source": [
    "from braindecode.models import ShallowFBCSPNet, EEGNetv1, EEGNetv4\n",
    "# model = ShallowFBCSPNet(\n",
    "#     in_chans = 32,\n",
    "#     n_classes = 2,\n",
    "#     input_window_samples=256,\n",
    "#     final_conv_length='auto',\n",
    "# )\n",
    "\n",
    "model = EEGNetv4(\n",
    "    in_chans = in_chans,\n",
    "    n_classes = labelsize,\n",
    "    input_window_samples=256,\n",
    ")\n"
   ]
  },
  {
   "cell_type": "code",
   "execution_count": 7,
   "metadata": {},
   "outputs": [],
   "source": [
    "if cuda:\n",
    "    model.cuda()"
   ]
  },
  {
   "cell_type": "markdown",
   "metadata": {},
   "source": [
    "End of new model."
   ]
  },
  {
   "cell_type": "code",
   "execution_count": 9,
   "metadata": {},
   "outputs": [
    {
     "data": {
      "text/plain": [
       "2"
      ]
     },
     "execution_count": 9,
     "metadata": {},
     "output_type": "execute_result"
    }
   ],
   "source": [
    "labelsize"
   ]
  },
  {
   "cell_type": "code",
   "execution_count": 14,
   "metadata": {},
   "outputs": [
    {
     "name": "stderr",
     "output_type": "stream",
     "text": [
      "/home/ducanh/anaconda3/envs/yolov4/lib/python3.8/site-packages/braindecode/util.py:66: UserWarning: np_to_var has been renamed np_to_th, please use np_to_th instead\n",
      "  warn(\"np_to_var has been renamed np_to_th, please use np_to_th instead\")\n"
     ]
    },
    {
     "name": "stdout",
     "output_type": "stream",
     "text": [
      "Epoch 0\n",
      "Train  Loss: 0.69146\n",
      "Train  Accuracy: 53.6%\n",
      "Valid  Loss: 0.69459\n",
      "Valid  Accuracy: 48.9%\n",
      "model saved\n",
      "[[592 416]\n",
      " [633 411]]\n",
      "Normalized confusion matrix\n"
     ]
    },
    {
     "name": "stderr",
     "output_type": "stream",
     "text": [
      "/home/ducanh/anaconda3/envs/yolov4/lib/python3.8/site-packages/braindecode/util.py:107: UserWarning: var_to_np has been renamed th_to_np, please use th_to_np instead\n",
      "  warn(\"var_to_np has been renamed th_to_np, please use th_to_np instead\")\n"
     ]
    },
    {
     "data": {
      "image/png": "[encoded data removed]",
      "text/plain": [
       "<Figure size 432x288 with 2 Axes>"
      ]
     },
     "metadata": {
      "needs_background": "light"
     },
     "output_type": "display_data"
    },
    {
     "name": "stderr",
     "output_type": "stream",
     "text": [
      "/home/ducanh/anaconda3/envs/yolov4/lib/python3.8/site-packages/braindecode/util.py:66: UserWarning: np_to_var has been renamed np_to_th, please use np_to_th instead\n",
      "  warn(\"np_to_var has been renamed np_to_th, please use np_to_th instead\")\n"
     ]
    },
    {
     "name": "stdout",
     "output_type": "stream",
     "text": [
      "Epoch 1\n",
      "Train  Loss: 0.68509\n",
      "Train  Accuracy: 58.5%\n",
      "Valid  Loss: 0.69220\n",
      "Valid  Accuracy: 52.8%\n",
      "model saved\n",
      "[[719 289]\n",
      " [680 364]]\n",
      "Normalized confusion matrix\n"
     ]
    },
    {
     "name": "stderr",
     "output_type": "stream",
     "text": [
      "/home/ducanh/anaconda3/envs/yolov4/lib/python3.8/site-packages/braindecode/util.py:107: UserWarning: var_to_np has been renamed th_to_np, please use th_to_np instead\n",
      "  warn(\"var_to_np has been renamed th_to_np, please use th_to_np instead\")\n"
     ]
    },
    {
     "data": {
      "image/png": "[encoded data removed]",
      "text/plain": [
       "<Figure size 432x288 with 2 Axes>"
      ]
     },
     "metadata": {
      "needs_background": "light"
     },
     "output_type": "display_data"
    },
    {
     "name": "stderr",
     "output_type": "stream",
     "text": [
      "/home/ducanh/anaconda3/envs/yolov4/lib/python3.8/site-packages/braindecode/util.py:66: UserWarning: np_to_var has been renamed np_to_th, please use np_to_th instead\n",
      "  warn(\"np_to_var has been renamed np_to_th, please use np_to_th instead\")\n"
     ]
    },
    {
     "name": "stdout",
     "output_type": "stream",
     "text": [
      "Epoch 2\n",
      "Train  Loss: 0.66301\n",
      "Train  Accuracy: 66.1%\n",
      "Valid  Loss: 0.67881\n",
      "Valid  Accuracy: 59.7%\n",
      "model saved\n",
      "[[735 273]\n",
      " [553 491]]\n",
      "Normalized confusion matrix\n"
     ]
    },
    {
     "name": "stderr",
     "output_type": "stream",
     "text": [
      "/home/ducanh/anaconda3/envs/yolov4/lib/python3.8/site-packages/braindecode/util.py:107: UserWarning: var_to_np has been renamed th_to_np, please use th_to_np instead\n",
      "  warn(\"var_to_np has been renamed th_to_np, please use th_to_np instead\")\n"
     ]
    },
    {
     "data": {
      "image/png": "[encoded data removed]",
      "text/plain": [
       "<Figure size 432x288 with 2 Axes>"
      ]
     },
     "metadata": {
      "needs_background": "light"
     },
     "output_type": "display_data"
    },
    {
     "name": "stderr",
     "output_type": "stream",
     "text": [
      "/home/ducanh/anaconda3/envs/yolov4/lib/python3.8/site-packages/braindecode/util.py:66: UserWarning: np_to_var has been renamed np_to_th, please use np_to_th instead\n",
      "  warn(\"np_to_var has been renamed np_to_th, please use np_to_th instead\")\n"
     ]
    },
    {
     "name": "stdout",
     "output_type": "stream",
     "text": [
      "Epoch 3\n",
      "Train  Loss: 0.59998\n",
      "Train  Accuracy: 73.4%\n",
      "Valid  Loss: 0.62959\n",
      "Valid  Accuracy: 69.6%\n",
      "model saved\n",
      "[[803 205]\n",
      " [419 625]]\n",
      "Normalized confusion matrix\n"
     ]
    },
    {
     "name": "stderr",
     "output_type": "stream",
     "text": [
      "/home/ducanh/anaconda3/envs/yolov4/lib/python3.8/site-packages/braindecode/util.py:107: UserWarning: var_to_np has been renamed th_to_np, please use th_to_np instead\n",
      "  warn(\"var_to_np has been renamed th_to_np, please use th_to_np instead\")\n"
     ]
    },
    {
     "data": {
      "image/png": "[encoded data removed]",
      "text/plain": [
       "<Figure size 432x288 with 2 Axes>"
      ]
     },
     "metadata": {
      "needs_background": "light"
     },
     "output_type": "display_data"
    },
    {
     "name": "stderr",
     "output_type": "stream",
     "text": [
      "/home/ducanh/anaconda3/envs/yolov4/lib/python3.8/site-packages/braindecode/util.py:66: UserWarning: np_to_var has been renamed np_to_th, please use np_to_th instead\n",
      "  warn(\"np_to_var has been renamed np_to_th, please use np_to_th instead\")\n"
     ]
    },
    {
     "name": "stdout",
     "output_type": "stream",
     "text": [
      "Epoch 4\n",
      "Train  Loss: 0.52422\n",
      "Train  Accuracy: 77.7%\n",
      "Valid  Loss: 0.54590\n",
      "Valid  Accuracy: 78.9%\n",
      "model saved\n",
      "[[829 179]\n",
      " [253 791]]\n",
      "Normalized confusion matrix\n"
     ]
    },
    {
     "name": "stderr",
     "output_type": "stream",
     "text": [
      "/home/ducanh/anaconda3/envs/yolov4/lib/python3.8/site-packages/braindecode/util.py:107: UserWarning: var_to_np has been renamed th_to_np, please use th_to_np instead\n",
      "  warn(\"var_to_np has been renamed th_to_np, please use th_to_np instead\")\n"
     ]
    },
    {
     "data": {
      "image/png": "[encoded data removed]",
      "text/plain": [
       "<Figure size 432x288 with 2 Axes>"
      ]
     },
     "metadata": {
      "needs_background": "light"
     },
     "output_type": "display_data"
    },
    {
     "name": "stderr",
     "output_type": "stream",
     "text": [
      "/home/ducanh/anaconda3/envs/yolov4/lib/python3.8/site-packages/braindecode/util.py:66: UserWarning: np_to_var has been renamed np_to_th, please use np_to_th instead\n",
      "  warn(\"np_to_var has been renamed np_to_th, please use np_to_th instead\")\n"
     ]
    },
    {
     "name": "stdout",
     "output_type": "stream",
     "text": [
      "Epoch 5\n",
      "Train  Loss: 0.47545\n",
      "Train  Accuracy: 79.8%\n",
      "Valid  Loss: 0.46760\n",
      "Valid  Accuracy: 84.7%\n",
      "model saved\n",
      "[[805 203]\n",
      " [110 934]]\n",
      "Normalized confusion matrix\n"
     ]
    },
    {
     "name": "stderr",
     "output_type": "stream",
     "text": [
      "/home/ducanh/anaconda3/envs/yolov4/lib/python3.8/site-packages/braindecode/util.py:107: UserWarning: var_to_np has been renamed th_to_np, please use th_to_np instead\n",
      "  warn(\"var_to_np has been renamed th_to_np, please use th_to_np instead\")\n"
     ]
    },
    {
     "data": {
      "image/png": "[encoded data removed]",
      "text/plain": [
       "<Figure size 432x288 with 2 Axes>"
      ]
     },
     "metadata": {
      "needs_background": "light"
     },
     "output_type": "display_data"
    },
    {
     "name": "stderr",
     "output_type": "stream",
     "text": [
      "/home/ducanh/anaconda3/envs/yolov4/lib/python3.8/site-packages/braindecode/util.py:66: UserWarning: np_to_var has been renamed np_to_th, please use np_to_th instead\n",
      "  warn(\"np_to_var has been renamed np_to_th, please use np_to_th instead\")\n"
     ]
    },
    {
     "name": "stdout",
     "output_type": "stream",
     "text": [
      "Epoch 6\n",
      "Train  Loss: 0.44175\n",
      "Train  Accuracy: 81.7%\n"
     ]
    },
    {
     "name": "stderr",
     "output_type": "stream",
     "text": [
      "/home/ducanh/anaconda3/envs/yolov4/lib/python3.8/site-packages/braindecode/util.py:107: UserWarning: var_to_np has been renamed th_to_np, please use th_to_np instead\n",
      "  warn(\"var_to_np has been renamed th_to_np, please use th_to_np instead\")\n"
     ]
    },
    {
     "name": "stdout",
     "output_type": "stream",
     "text": [
      "Valid  Loss: 0.41172\n",
      "Valid  Accuracy: 85.5%\n",
      "model saved\n",
      "[[766 242]\n",
      " [ 55 989]]\n",
      "Normalized confusion matrix\n"
     ]
    },
    {
     "data": {
      "image/png": "[encoded data removed]",
      "text/plain": [
       "<Figure size 432x288 with 2 Axes>"
      ]
     },
     "metadata": {
      "needs_background": "light"
     },
     "output_type": "display_data"
    },
    {
     "name": "stderr",
     "output_type": "stream",
     "text": [
      "/home/ducanh/anaconda3/envs/yolov4/lib/python3.8/site-packages/braindecode/util.py:66: UserWarning: np_to_var has been renamed np_to_th, please use np_to_th instead\n",
      "  warn(\"np_to_var has been renamed np_to_th, please use np_to_th instead\")\n"
     ]
    },
    {
     "name": "stdout",
     "output_type": "stream",
     "text": [
      "Epoch 7\n",
      "Train  Loss: 0.41463\n",
      "Train  Accuracy: 82.8%\n"
     ]
    },
    {
     "name": "stderr",
     "output_type": "stream",
     "text": [
      "/home/ducanh/anaconda3/envs/yolov4/lib/python3.8/site-packages/braindecode/util.py:107: UserWarning: var_to_np has been renamed th_to_np, please use th_to_np instead\n",
      "  warn(\"var_to_np has been renamed th_to_np, please use th_to_np instead\")\n"
     ]
    },
    {
     "name": "stdout",
     "output_type": "stream",
     "text": [
      "Valid  Loss: 0.39060\n",
      "Valid  Accuracy: 83.4%\n",
      "Epoch 8\n",
      "Train  Loss: 0.39607\n",
      "Train  Accuracy: 83.3%\n",
      "Valid  Loss: 0.39182\n",
      "Valid  Accuracy: 81.7%\n",
      "Epoch 9\n",
      "Train  Loss: 0.37927\n",
      "Train  Accuracy: 83.7%\n",
      "Valid  Loss: 0.40215\n",
      "Valid  Accuracy: 80.5%\n",
      "Epoch 10\n",
      "Train  Loss: 0.36544\n",
      "Train  Accuracy: 84.2%\n",
      "Valid  Loss: 0.41337\n",
      "Valid  Accuracy: 79.6%\n",
      "Epoch 11\n",
      "Train  Loss: 0.35166\n",
      "Train  Accuracy: 84.7%\n",
      "Valid  Loss: 0.41180\n",
      "Valid  Accuracy: 79.3%\n",
      "Epoch 12\n",
      "Train  Loss: 0.34019\n",
      "Train  Accuracy: 85.3%\n",
      "Valid  Loss: 0.41360\n",
      "Valid  Accuracy: 79.0%\n",
      "Epoch 13\n",
      "Train  Loss: 0.33013\n",
      "Train  Accuracy: 85.8%\n",
      "Valid  Loss: 0.41991\n",
      "Valid  Accuracy: 78.4%\n",
      "Epoch 14\n",
      "Train  Loss: 0.32130\n",
      "Train  Accuracy: 86.1%\n",
      "Valid  Loss: 0.42976\n",
      "Valid  Accuracy: 78.0%\n",
      "Epoch 15\n",
      "Train  Loss: 0.31239\n",
      "Train  Accuracy: 86.4%\n",
      "Valid  Loss: 0.42484\n",
      "Valid  Accuracy: 78.6%\n",
      "Epoch 16\n",
      "Train  Loss: 0.30492\n",
      "Train  Accuracy: 86.7%\n",
      "Valid  Loss: 0.42672\n",
      "Valid  Accuracy: 78.5%\n",
      "Epoch 17\n",
      "Train  Loss: 0.29850\n",
      "Train  Accuracy: 86.9%\n",
      "Valid  Loss: 0.43053\n",
      "Valid  Accuracy: 78.8%\n",
      "Epoch 18\n",
      "Train  Loss: 0.29176\n",
      "Train  Accuracy: 87.4%\n",
      "Valid  Loss: 0.42396\n",
      "Valid  Accuracy: 79.8%\n",
      "Epoch 19\n",
      "Train  Loss: 0.28554\n",
      "Train  Accuracy: 87.6%\n",
      "Valid  Loss: 0.42725\n",
      "Valid  Accuracy: 79.9%\n",
      "Epoch 20\n",
      "Train  Loss: 0.27956\n",
      "Train  Accuracy: 88.1%\n",
      "Valid  Loss: 0.41838\n",
      "Valid  Accuracy: 80.5%\n",
      "Epoch 21\n",
      "Train  Loss: 0.27442\n",
      "Train  Accuracy: 88.2%\n",
      "Valid  Loss: 0.42315\n",
      "Valid  Accuracy: 80.5%\n",
      "Epoch 22\n",
      "Train  Loss: 0.26797\n",
      "Train  Accuracy: 88.8%\n",
      "Valid  Loss: 0.40564\n",
      "Valid  Accuracy: 81.2%\n",
      "Epoch 23\n",
      "Train  Loss: 0.26543\n",
      "Train  Accuracy: 88.6%\n",
      "Valid  Loss: 0.41233\n",
      "Valid  Accuracy: 81.2%\n",
      "Epoch 24\n",
      "Train  Loss: 0.25997\n",
      "Train  Accuracy: 88.9%\n",
      "Valid  Loss: 0.40330\n",
      "Valid  Accuracy: 81.7%\n",
      "Epoch 25\n",
      "Train  Loss: 0.25425\n",
      "Train  Accuracy: 89.6%\n",
      "Valid  Loss: 0.40113\n",
      "Valid  Accuracy: 82.0%\n",
      "Epoch 26\n",
      "Train  Loss: 0.24946\n",
      "Train  Accuracy: 89.9%\n",
      "Valid  Loss: 0.39614\n",
      "Valid  Accuracy: 82.2%\n",
      "Epoch 27\n",
      "Train  Loss: 0.24561\n",
      "Train  Accuracy: 90.0%\n",
      "Valid  Loss: 0.40475\n",
      "Valid  Accuracy: 81.9%\n",
      "Epoch 28\n",
      "Train  Loss: 0.24004\n",
      "Train  Accuracy: 90.5%\n",
      "Valid  Loss: 0.38931\n",
      "Valid  Accuracy: 82.5%\n",
      "Epoch 29\n",
      "Train  Loss: 0.23614\n",
      "Train  Accuracy: 91.1%\n",
      "Valid  Loss: 0.38792\n",
      "Valid  Accuracy: 82.7%\n",
      "Epoch 30\n",
      "Train  Loss: 0.23191\n",
      "Train  Accuracy: 90.8%\n",
      "Valid  Loss: 0.38931\n",
      "Valid  Accuracy: 82.5%\n",
      "Epoch 31\n",
      "Train  Loss: 0.22688\n",
      "Train  Accuracy: 91.4%\n",
      "Valid  Loss: 0.39728\n",
      "Valid  Accuracy: 82.3%\n",
      "Epoch 32\n",
      "Train  Loss: 0.22273\n",
      "Train  Accuracy: 91.3%\n",
      "Valid  Loss: 0.39797\n",
      "Valid  Accuracy: 82.4%\n",
      "Epoch 33\n",
      "Train  Loss: 0.21952\n",
      "Train  Accuracy: 91.5%\n",
      "Valid  Loss: 0.40673\n",
      "Valid  Accuracy: 82.3%\n",
      "Epoch 34\n",
      "Train  Loss: 0.21462\n",
      "Train  Accuracy: 91.6%\n",
      "Valid  Loss: 0.39601\n",
      "Valid  Accuracy: 82.5%\n",
      "Epoch 35\n",
      "Train  Loss: 0.20975\n",
      "Train  Accuracy: 92.0%\n",
      "Valid  Loss: 0.40291\n",
      "Valid  Accuracy: 82.2%\n",
      "Epoch 36\n",
      "Train  Loss: 0.20681\n",
      "Train  Accuracy: 92.1%\n",
      "Valid  Loss: 0.39917\n",
      "Valid  Accuracy: 82.3%\n",
      "Epoch 37\n",
      "Train  Loss: 0.20360\n",
      "Train  Accuracy: 92.3%\n",
      "Valid  Loss: 0.42009\n",
      "Valid  Accuracy: 81.7%\n",
      "Epoch 38\n",
      "Train  Loss: 0.19925\n",
      "Train  Accuracy: 92.7%\n",
      "Valid  Loss: 0.41819\n",
      "Valid  Accuracy: 81.6%\n",
      "Epoch 39\n",
      "Train  Loss: 0.19672\n",
      "Train  Accuracy: 92.6%\n",
      "Valid  Loss: 0.43557\n",
      "Valid  Accuracy: 81.5%\n",
      "Epoch 40\n",
      "Train  Loss: 0.19230\n",
      "Train  Accuracy: 92.9%\n",
      "Valid  Loss: 0.43168\n",
      "Valid  Accuracy: 81.3%\n",
      "Epoch 41\n",
      "Train  Loss: 0.18942\n",
      "Train  Accuracy: 92.8%\n",
      "Valid  Loss: 0.44323\n",
      "Valid  Accuracy: 81.0%\n",
      "Epoch 42\n",
      "Train  Loss: 0.18713\n",
      "Train  Accuracy: 92.9%\n",
      "Valid  Loss: 0.44175\n",
      "Valid  Accuracy: 81.4%\n",
      "Epoch 43\n",
      "Train  Loss: 0.18350\n",
      "Train  Accuracy: 93.1%\n",
      "Valid  Loss: 0.43846\n",
      "Valid  Accuracy: 81.8%\n",
      "Epoch 44\n",
      "Train  Loss: 0.18184\n",
      "Train  Accuracy: 93.0%\n",
      "Valid  Loss: 0.46496\n",
      "Valid  Accuracy: 81.2%\n",
      "Epoch 45\n",
      "Train  Loss: 0.17982\n",
      "Train  Accuracy: 93.1%\n",
      "Valid  Loss: 0.49379\n",
      "Valid  Accuracy: 80.4%\n",
      "Epoch 46\n",
      "Train  Loss: 0.17618\n",
      "Train  Accuracy: 93.2%\n",
      "Valid  Loss: 0.49099\n",
      "Valid  Accuracy: 80.9%\n",
      "Epoch 47\n",
      "Train  Loss: 0.17309\n",
      "Train  Accuracy: 93.4%\n",
      "Valid  Loss: 0.49805\n",
      "Valid  Accuracy: 81.0%\n",
      "Epoch 48\n",
      "Train  Loss: 0.17055\n",
      "Train  Accuracy: 93.6%\n",
      "Valid  Loss: 0.50508\n",
      "Valid  Accuracy: 80.9%\n",
      "Epoch 49\n",
      "Train  Loss: 0.16694\n",
      "Train  Accuracy: 93.8%\n",
      "Valid  Loss: 0.49495\n",
      "Valid  Accuracy: 82.2%\n",
      "time is 37.39082407951355\n"
     ]
    }
   ],
   "source": [
    "# batch_size = 128\n",
    "# optimizer = optim.AdamW(model.parameters(), lr=0.0001, weight_decay=0.5*0.001)\n",
    "\n",
    "# total_epoch = -1\n",
    "# Tlosses, Taccuracies = [], []\n",
    "# Vlosses, Vaccuracies = [], []\n",
    "# highest_acc = 0\n",
    "\n",
    "# savename = \"right_hand.pth\"\n",
    "\n",
    "# start=time.time()\n",
    "\n",
    "# for i_epoch in range(50):\n",
    "#     total_epoch += 1\n",
    "#     # Randomize batches ids and get iterater 'i_trials_in_batch'\n",
    "#     i_trials_in_batch = get_balanced_batches(len(train_set.X), rng, shuffle=True,\n",
    "#                                              batch_size=batch_size)\n",
    "#     # Set model to training mode\n",
    "#     model.train()\n",
    "#     for i_trials in i_trials_in_batch:\n",
    "#         # Have to add empty fourth dimension to X for training\n",
    "#         batch_X = train_set.X[i_trials][:, :, :, None]\n",
    "#         batch_y = train_set.y[i_trials]\n",
    "#         # convert from nparray to torch tensor\n",
    "#         net_in = np_to_var(batch_X)\n",
    "    \n",
    "#         if cuda:\n",
    "#             net_in = net_in.cuda()\n",
    "#         net_target = np_to_var(batch_y)\n",
    "#         if cuda:\n",
    "#             net_target = net_target.cuda()\n",
    "#         # Remove gradients of last backward pass from all parameters\n",
    "#         optimizer.zero_grad()\n",
    "#         # Compute outputs of the network\n",
    "#         outputs = model(net_in)\n",
    "#         # Compute the loss\n",
    "#         loss = F.nll_loss(outputs, net_target)\n",
    "#         # Do the backpropagation\n",
    "#         loss.backward()\n",
    "#         # Update parameters with the optimizer\n",
    "#         optimizer.step()\n",
    "    \n",
    "#     # Set model to evaluation mode\n",
    "#     model.eval()\n",
    "#     print(\"Epoch {:d}\".format(total_epoch))\n",
    "#     average_acc = []\n",
    "#     average_loss = []\n",
    "    \n",
    "#     # Here we compute training accuracy and validation accuracy of current model\n",
    "#     for setname, dataset in (('Train', train_set), ('Valid', valid_set)):\n",
    "#         i_trials_in_batch = get_balanced_batches(len(dataset.X), rng, shuffle=False,\n",
    "#                                                  batch_size=batch_size)\n",
    "#         outputs=None\n",
    "#         for i_trials in i_trials_in_batch:\n",
    "#             batch_X = dataset.X[i_trials][:, :, :, None]\n",
    "#             batch_y = dataset.y[i_trials]\n",
    "#             net_in = np_to_var(batch_X)\n",
    "#             if cuda:\n",
    "#                 net_in = net_in.cuda()\n",
    "#             toutputs = model(net_in)\n",
    "#             if outputs is None:\n",
    "#                 temp = toutputs.cpu()\n",
    "#                 outputs = temp.detach().numpy()\n",
    "#             else:\n",
    "#                 temp = toutputs.cpu()\n",
    "#                 outputs = np.concatenate((outputs,temp.detach().numpy()))\n",
    "#         net_target = np_to_var(dataset.y)\n",
    "#         loss = F.nll_loss(torch.from_numpy(outputs), net_target)\n",
    "#         print(\"{:6s} Loss: {:.5f}\".format(\n",
    "#             setname, float(var_to_np(loss))))\n",
    "#         predicted_labels = np.argmax((outputs), axis=1)\n",
    "#         accuracy = np.mean(dataset.y  == predicted_labels)\n",
    "        \n",
    "#         print(\"{:6s} Accuracy: {:.1f}%\".format(setname, accuracy * 100))\n",
    "#         if setname == 'Train':\n",
    "#             Tlosses.append(loss)\n",
    "#             Taccuracies.append(accuracy)\n",
    "#             current_Tacc=accuracy\n",
    "#         elif setname == 'Valid':\n",
    "#             Vlosses.append(loss)\n",
    "#             Vaccuracies.append(accuracy)\n",
    "#             if accuracy>=highest_acc:\n",
    "#                 torch.save({\n",
    "#                     'in_chans': in_chans,\n",
    "#                     'model_state_dict': model.state_dict(),\n",
    "#                     'optimizer_state_dict': optimizer.state_dict(),\n",
    "#                     'n_classes': labelsize,\n",
    "#                     'input_time_length': window_size\n",
    "#                 }, savename)\n",
    "\n",
    "#                 highest_acc=accuracy\n",
    "#                 print('model saved')\n",
    "#                 # plot_confusion_matrix(dataset.y, predicted_labels, \n",
    "#                 #                       classes=['LH', 'RH', 'Other'], normalize=True,\n",
    "#                 #                       title='Validation confusion matrix')\n",
    "#                 # plt.show()\n",
    "#                 plot_confusion_matrix(dataset.y, predicted_labels, \n",
    "#                                       classes=['LH', 'Other'], normalize=True,\n",
    "#                                       title='Validation confusion matrix')\n",
    "#                 plt.show()\n",
    "#         else:\n",
    "#             average_acc.append(accuracy)\n",
    "#             average_loss.append(accuracy)\n",
    "# end = time.time()\n",
    "\n",
    "# print('time is {}'.format(end-start))"
   ]
  },
  {
   "cell_type": "code",
   "execution_count": 20,
   "metadata": {},
   "outputs": [
    {
     "ename": "NameError",
     "evalue": "name 'Tlosses' is not defined",
     "output_type": "error",
     "traceback": [
      "\u001b[0;31m---------------------------------------------------------------------------\u001b[0m",
      "\u001b[0;31mNameError\u001b[0m                                 Traceback (most recent call last)",
      "\u001b[1;32m/home/ducanh/hain/hungp/NeurIPS_BEETL/test_model.ipynb Cell 14\u001b[0m in \u001b[0;36m<cell line: 1>\u001b[0;34m()\u001b[0m\n\u001b[0;32m----> <a href='vscode-notebook-cell://ssh-remote%2Bsiliconcube.asuscomm.com/home/ducanh/hain/hungp/NeurIPS_BEETL/test_model.ipynb#ch0000025vscode-remote?line=0'>1</a>\u001b[0m t \u001b[39m=\u001b[39m np\u001b[39m.\u001b[39marange(\u001b[39m0.0\u001b[39m, \u001b[39mlen\u001b[39m(Tlosses), \u001b[39m1\u001b[39m)\u001b[39m+\u001b[39m\u001b[39m1\u001b[39m\n\u001b[1;32m      <a href='vscode-notebook-cell://ssh-remote%2Bsiliconcube.asuscomm.com/home/ducanh/hain/hungp/NeurIPS_BEETL/test_model.ipynb#ch0000025vscode-remote?line=1'>2</a>\u001b[0m plt\u001b[39m.\u001b[39mplot(t, Tlosses, \u001b[39m'\u001b[39m\u001b[39mr\u001b[39m\u001b[39m'\u001b[39m, t, Vlosses, \u001b[39m'\u001b[39m\u001b[39my\u001b[39m\u001b[39m'\u001b[39m)\n\u001b[1;32m      <a href='vscode-notebook-cell://ssh-remote%2Bsiliconcube.asuscomm.com/home/ducanh/hain/hungp/NeurIPS_BEETL/test_model.ipynb#ch0000025vscode-remote?line=2'>3</a>\u001b[0m plt\u001b[39m.\u001b[39mlegend((\u001b[39m'\u001b[39m\u001b[39mTraining loss\u001b[39m\u001b[39m'\u001b[39m, \u001b[39m'\u001b[39m\u001b[39mvalidation loss\u001b[39m\u001b[39m'\u001b[39m))\n",
      "\u001b[0;31mNameError\u001b[0m: name 'Tlosses' is not defined"
     ]
    }
   ],
   "source": [
    "# t = np.arange(0.0, len(Tlosses), 1)+1\n",
    "# plt.plot(t, Tlosses, 'r', t, Vlosses, 'y')\n",
    "# plt.legend(('Training loss', 'validation loss'))\n",
    "# plt.show()\n",
    "\n",
    "# plt.plot(t, Taccuracies, 'r', t, Vaccuracies, 'y')\n",
    "# plt.legend(('Training accuracy', 'Validation accuracy'))\n",
    "# plt.show()"
   ]
  },
  {
   "cell_type": "code",
   "execution_count": 12,
   "metadata": {},
   "outputs": [],
   "source": [
    "from braindecode.training import predict_trials\n",
    "import numpy"
   ]
  },
  {
   "cell_type": "code",
   "execution_count": 28,
   "metadata": {},
   "outputs": [
    {
     "ename": "IndexError",
     "evalue": "too many indices for array: array is 2-dimensional, but 3 were indexed",
     "output_type": "error",
     "traceback": [
      "\u001b[0;31m---------------------------------------------------------------------------\u001b[0m",
      "\u001b[0;31mIndexError\u001b[0m                                Traceback (most recent call last)",
      "\u001b[1;32m/home/ducanh/hain/hungp/NeurIPS_BEETL/test_model.ipynb Cell 16\u001b[0m in \u001b[0;36m<cell line: 1>\u001b[0;34m()\u001b[0m\n\u001b[0;32m----> <a href='vscode-notebook-cell://ssh-remote%2Bsiliconcube.asuscomm.com/home/ducanh/hain/hungp/NeurIPS_BEETL/test_model.ipynb#ch0000015vscode-remote?line=0'>1</a>\u001b[0m model(np_to_var(test_set\u001b[39m.\u001b[39;49mX[\u001b[39m0\u001b[39;49m][:, :, :, \u001b[39mNone\u001b[39;49;00m]))\n",
      "\u001b[0;31mIndexError\u001b[0m: too many indices for array: array is 2-dimensional, but 3 were indexed"
     ]
    }
   ],
   "source": [
    "# model(np_to_var(test_set.X[0][:, :, :, None]))"
   ]
  },
  {
   "cell_type": "code",
   "execution_count": 31,
   "metadata": {},
   "outputs": [
    {
     "name": "stderr",
     "output_type": "stream",
     "text": [
      "/home/ducanh/anaconda3/envs/yolov4/lib/python3.8/site-packages/braindecode/util.py:66: UserWarning: np_to_var has been renamed np_to_th, please use np_to_th instead\n",
      "  warn(\"np_to_var has been renamed np_to_th, please use np_to_th instead\")\n"
     ]
    },
    {
     "name": "stdout",
     "output_type": "stream",
     "text": [
      "testset Loss: 0.33493\n",
      "testset Accuracy: 96.6%\n",
      "[[ 73   0]\n",
      " [ 11 244]]\n",
      "Normalized confusion matrix\n"
     ]
    },
    {
     "name": "stderr",
     "output_type": "stream",
     "text": [
      "/home/ducanh/anaconda3/envs/yolov4/lib/python3.8/site-packages/braindecode/util.py:107: UserWarning: var_to_np has been renamed th_to_np, please use th_to_np instead\n",
      "  warn(\"var_to_np has been renamed th_to_np, please use th_to_np instead\")\n"
     ]
    },
    {
     "data": {
      "image/png": "[encoded data removed]",
      "text/plain": [
       "<Figure size 432x288 with 2 Axes>"
      ]
     },
     "metadata": {
      "needs_background": "light"
     },
     "output_type": "display_data"
    }
   ],
   "source": [
    "# model = start_kits.util.shallow_net.EEGShallowClassifier(in_chans, labelsize, window_size, return_feature=False)\n",
    "\n",
    "if cuda:\n",
    "    model.cuda()\n",
    "checkpoint = torch.load('right_hand.pth')\n",
    "model.load_state_dict(checkpoint['model_state_dict'])\n",
    "model.eval()\n",
    "\n",
    "average_acc, average_loss = [], []\n",
    "setname = 'testset'\n",
    "dataset = test_set\n",
    "\n",
    "i_trials_in_batch = get_balanced_batches(len(dataset.X), rng, shuffle=False,\n",
    "                                         batch_size=256)\n",
    "outputs=None\n",
    "for i_trials in i_trials_in_batch:\n",
    "    # Have to add empty fourth dimension to X\n",
    "    batch_X = dataset.X[i_trials][:, :, :, None]\n",
    "    batch_y = dataset.y[i_trials]\n",
    "    net_in = np_to_var(batch_X)\n",
    "    if cuda:\n",
    "        net_in = net_in.cuda()\n",
    "    toutputs = model(net_in)\n",
    "    if outputs is None:\n",
    "        temp = toutputs.cpu()\n",
    "        outputs = temp.detach().numpy()\n",
    "    else:\n",
    "        temp = toutputs.cpu()\n",
    "        outputs = np.concatenate((outputs,temp.detach().numpy()))\n",
    "\n",
    "net_target = np_to_var(dataset.y)\n",
    "loss = F.nll_loss(torch.from_numpy(outputs), net_target)\n",
    "print(\"{:6s} Loss: {:.5f}\".format(setname, float(var_to_np(loss))))\n",
    "predicted_labels = np.argmax((outputs), axis=1)\n",
    "accuracy = np.mean(dataset.y  == predicted_labels)\n",
    "\n",
    "print(\"{:6s} Accuracy: {:.1f}%\".format(setname, accuracy * 100))\n",
    "plot_confusion_matrix(dataset.y, predicted_labels, \n",
    "                      classes=['RH','Other'], normalize=True,\n",
    "                      title='Validation confusion matrix')\n",
    "plt.show()"
   ]
  },
  {
   "cell_type": "code",
   "execution_count": 14,
   "metadata": {},
   "outputs": [],
   "source": [
    "y_tensor = torch.from_numpy(dataset.y)\n",
    "y_pred = torch.from_numpy(predicted_labels)"
   ]
  },
  {
   "cell_type": "code",
   "execution_count": 15,
   "metadata": {},
   "outputs": [
    {
     "name": "stdout",
     "output_type": "stream",
     "text": [
      "Type of a :\n",
      " <class 'numpy.ndarray'>\n",
      "Type of a :\n",
      " <class 'torch.Tensor'>\n",
      "t:\n",
      " [1 1 1 1 1 1 1 1 1 1 1 1 1 1 1 1 1 1 1 1 1 1 1 1 1 1 1 1 1 1 1 1 1 1 1 1 1\n",
      " 1 1 1 1 1 1 1 1 1 1 1 1 1 1 1 1 1 1 1 1 1 1 1 1 1 1 1 1 1 1 1 1 1 1 1 1 1\n",
      " 1 1 1 1 1 1 1 1 1 1 1 1 1 1 1 1 1 1 1 1 1 1 1 1 1 1 1 1 1 1 1 1 1 1 1 1 1\n",
      " 1 1 1 1 1 1 1 0 0 0 0 0 0 0 0 0 0 0 0 0 0 0 0 0 0 0 0 0 0 0 0 1 1 1 1 1 1\n",
      " 1 1 1 1 1 1 1 1 1 1 1 1 1 1 1 1 1 1 1 1 1 1 1 1 1 1 1 1 1 1 1 1 1 0 0 0 0\n",
      " 0 0 0 0 0 0 0 0 0 0 0 0 0 0 0 0 0 0 0 1 1 1 1 1 1 1 1 1 1 1 1 1 1 1 1 1 1\n",
      " 1 1 1 1 1 1 1 1 1 1 1 1 1 1 1 1 1 1 1 1 1 1 1 1 1 1 1 1 1 1 1 1 1 0 0 0 0\n",
      " 0 0 0 0 0 0 0 0 0 0 0 0 0 0 0 0 0 0 0 0 0 0 1 1 1 1 1 1 1 1 1 1 1 1 1 1 1\n",
      " 1 1 1 1 1 1 1 1 1 1 1 1 1 1 1 1 1 1 1 1 1 1 1 1 1 1 1 1 1 1 1 1]\n",
      "t:\n",
      " tensor([1, 1, 1, 1, 1, 1, 1, 1, 1, 1, 1, 1, 1, 1, 1, 1, 1, 1, 1, 1, 1, 1, 1, 1,\n",
      "        1, 1, 1, 1, 1, 1, 1, 1, 1, 1, 1, 1, 1, 1, 1, 1, 1, 1, 1, 1, 1, 1, 1, 1,\n",
      "        1, 1, 1, 1, 1, 1, 1, 1, 1, 1, 1, 1, 1, 1, 1, 1, 1, 1, 1, 1, 1, 1, 1, 1,\n",
      "        1, 1, 1, 1, 1, 1, 1, 1, 1, 1, 1, 1, 1, 1, 1, 1, 1, 1, 1, 1, 1, 1, 1, 1,\n",
      "        1, 1, 1, 1, 1, 1, 1, 1, 1, 1, 1, 1, 1, 1, 1, 1, 1, 1, 1, 1, 1, 1, 0, 0,\n",
      "        0, 0, 0, 0, 0, 0, 0, 0, 0, 0, 0, 0, 0, 0, 0, 0, 0, 0, 0, 0, 0, 0, 1, 1,\n",
      "        1, 1, 1, 1, 1, 1, 1, 1, 1, 1, 1, 1, 1, 1, 1, 1, 1, 1, 1, 1, 1, 1, 1, 1,\n",
      "        1, 1, 1, 1, 1, 1, 1, 1, 1, 1, 1, 1, 1, 0, 0, 0, 0, 0, 0, 0, 0, 0, 0, 0,\n",
      "        0, 0, 0, 0, 0, 0, 0, 0, 0, 0, 0, 0, 1, 1, 1, 1, 1, 1, 1, 1, 1, 1, 1, 1,\n",
      "        1, 1, 1, 1, 1, 1, 1, 1, 1, 1, 1, 1, 1, 1, 1, 1, 1, 1, 1, 1, 1, 1, 1, 1,\n",
      "        1, 1, 1, 1, 1, 1, 1, 1, 1, 1, 1, 1, 1, 1, 1, 0, 0, 0, 0, 0, 0, 0, 0, 0,\n",
      "        0, 0, 0, 0, 0, 0, 0, 0, 0, 0, 0, 0, 0, 0, 0, 0, 0, 1, 1, 1, 1, 1, 1, 1,\n",
      "        1, 1, 1, 1, 1, 1, 1, 1, 1, 1, 1, 1, 1, 1, 1, 1, 1, 1, 1, 1, 1, 1, 1, 1,\n",
      "        1, 1, 1, 1, 1, 1, 1, 1, 1, 1, 1, 1, 1, 1, 1, 1])\n"
     ]
    }
   ],
   "source": [
    "print(\"Type of a :\\n\", type(dataset.y))\n",
    "print(\"Type of a :\\n\", type(y_tensor))\n",
    "# Convert the numpy.ndarray to tensor\n",
    "print(\"t:\\n\", dataset.y)\n",
    "print(\"t:\\n\", y_tensor)"
   ]
  },
  {
   "cell_type": "code",
   "execution_count": 16,
   "metadata": {},
   "outputs": [
    {
     "data": {
      "text/plain": [
       "tensor(0.9080)"
      ]
     },
     "execution_count": 16,
     "metadata": {},
     "output_type": "execute_result"
    }
   ],
   "source": [
    "cohenkappa = CohenKappa(num_classes=2)\n",
    "cohenkappa(y_tensor, y_pred)"
   ]
  }
 ],
 "metadata": {
  "kernelspec": {
   "display_name": "Python 3.8.13 ('yolov4')",
   "language": "python",
   "name": "python3"
  },
  "language_info": {
   "codemirror_mode": {
    "name": "ipython",
    "version": 3
   },
   "file_extension": ".py",
   "mimetype": "text/x-python",
   "name": "python",
   "nbconvert_exporter": "python",
   "pygments_lexer": "ipython3",
   "version": "3.8.13"
  },
  "vscode": {
   "interpreter": {
    "hash": "e122fa3ebfb795a2885f6aec974e3d1e6a66f6aebb6d7ae856fb30964b8ddec4"
   }
  }
 },
 "nbformat": 4,
 "nbformat_minor": 4
}
